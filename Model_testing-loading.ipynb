{
 "cells": [
  {
   "cell_type": "code",
   "execution_count": 1,
   "metadata": {},
   "outputs": [],
   "source": [
    "import numpy as np\n",
    "import pandas as pd\n",
    "import joblib\n",
    "import matplotlib.pyplot as plt\n",
    "from scipy import sparse\n",
    "import sys\n",
    "from time import time\n",
    "from IPython.core.debugger import set_trace\n",
    "\n",
    "from sklearn.neighbors import NearestNeighbors\n",
    "from sklearn.preprocessing import LabelEncoder"
   ]
  },
  {
   "cell_type": "code",
   "execution_count": 2,
   "metadata": {},
   "outputs": [],
   "source": [
    "from NNS import Recommender"
   ]
  },
  {
   "cell_type": "code",
   "execution_count": 3,
   "metadata": {},
   "outputs": [],
   "source": [
    "clf = Recommender(\"user_based_NN\", verbose=True)"
   ]
  },
  {
   "cell_type": "code",
   "execution_count": 4,
   "metadata": {},
   "outputs": [],
   "source": [
    "clf.load_encoders(path_songs=\"data/label_encoder_songs_classes_.npy\", path_users=\"data/label_encoder_users_classes_.npy\")"
   ]
  },
  {
   "cell_type": "code",
   "execution_count": 5,
   "metadata": {},
   "outputs": [],
   "source": [
    "X = sparse.load_npz(\"data/song-user_matrix_with_rating.npz\")"
   ]
  },
  {
   "cell_type": "code",
   "execution_count": 6,
   "metadata": {},
   "outputs": [],
   "source": [
    "clf.load_model(model_name=\"Item-User_KNN_model\")"
   ]
  },
  {
   "cell_type": "code",
   "execution_count": 7,
   "metadata": {},
   "outputs": [
    {
     "name": "stdout",
     "output_type": "stream",
     "text": [
      "['SOVQZBK12A6D4F8413' 'SODEPGO12A6D4F8882' 'SONWIGS12AB0189A23'\n",
      " 'SOOTLSK12A8C13F68C' 'SOORQWE12AB017BA0F' 'SODYBPW12AAF3B3061'\n",
      " 'SOAAMTH12AF729D4E5' 'SOBUFOW12A8AE48661' 'SOEFOIW12A8C138C0A'\n",
      " 'SOGMAXP12A58A7CC35']\n"
     ]
    },
    {
     "data": {
      "text/plain": [
       "array([136045,  20971,  89505,  94961,  94556,  25973,    134,  11749,\n",
       "        27843,  42691])"
      ]
     },
     "execution_count": 7,
     "metadata": {},
     "output_type": "execute_result"
    }
   ],
   "source": [
    "_10_random_songs = np.random.choice(clf.song_label_encoder.classes_,10)\n",
    "print(_10_random_songs)\n",
    "song_list = clf.song_label_encoder.transform(np.array(_10_random_songs)).squeeze()\n",
    "song_list"
   ]
  },
  {
   "cell_type": "code",
   "execution_count": null,
   "metadata": {},
   "outputs": [],
   "source": []
  },
  {
   "cell_type": "code",
   "execution_count": 8,
   "metadata": {},
   "outputs": [
    {
     "name": "stdout",
     "output_type": "stream",
     "text": [
      "  recommended_songs_id  cosine distance\n",
      "0   SOBIQRS12AB0185E55         0.939268\n",
      "1   SOMQGGA12A8C13CCFF         0.858115\n",
      "2   SONMIKJ12AF72A037D         0.937439\n",
      "3   SOXWHDL12AB018E675         0.896243\n",
      "4   SOAKRQZ12A5C5D4218         0.928117\n",
      "5   SOOUCHE12AB018B8FA         0.920360\n",
      "6   SOSDLQS12A6D4F9D84         0.940110\n",
      "7   SOOISQZ12A8C139B0C         0.927044\n",
      "8   SOQINBP12A6310E222         0.794572\n",
      "9   SORIQMF12A6310E9DA         0.844919\n"
     ]
    },
    {
     "data": {
      "text/plain": [
       "(array(['SOBIQRS12AB0185E55', 'SOMQGGA12A8C13CCFF', 'SONMIKJ12AF72A037D',\n",
       "        'SOXWHDL12AB018E675', 'SOAKRQZ12A5C5D4218', 'SOOUCHE12AB018B8FA',\n",
       "        'SOSDLQS12A6D4F9D84', 'SOOISQZ12A8C139B0C', 'SOQINBP12A6310E222',\n",
       "        'SORIQMF12A6310E9DA'], dtype=object),\n",
       " array([0.93926833, 0.85811479, 0.93743888, 0.89624283, 0.92811695,\n",
       "        0.92036022, 0.9401101 , 0.92704422, 0.79457239, 0.8449193 ]))"
      ]
     },
     "execution_count": 8,
     "metadata": {},
     "output_type": "execute_result"
    }
   ],
   "source": [
    "clf.recommend(song_list= _10_random_songs, full_name=True, return_song_id=True)\n"
   ]
  },
  {
   "cell_type": "code",
   "execution_count": 9,
   "metadata": {},
   "outputs": [
    {
     "name": "stdout",
     "output_type": "stream",
     "text": [
      "   recommended_songs_code  cosine distance\n",
      "0                    8762         0.939268\n",
      "1                   81799         0.858115\n",
      "2                   87071         0.937439\n",
      "3                  148871         0.896243\n",
      "4                    2742         0.928117\n",
      "5                   95127         0.920360\n",
      "6                  115153         0.940110\n",
      "7                   92475         0.927044\n",
      "8                  104541         0.794572\n",
      "9                  110421         0.844919\n"
     ]
    },
    {
     "data": {
      "text/plain": [
       "(array([  8762,  81799,  87071, 148871,   2742,  95127, 115153,  92475,\n",
       "        104541, 110421], dtype=int64),\n",
       " array([0.93926833, 0.85811479, 0.93743888, 0.89624283, 0.92811695,\n",
       "        0.92036022, 0.9401101 , 0.92704422, 0.79457239, 0.8449193 ]))"
      ]
     },
     "execution_count": 9,
     "metadata": {},
     "output_type": "execute_result"
    }
   ],
   "source": [
    "clf.recommend(song_list=_10_random_songs, full_name=True, return_song_id=False)"
   ]
  },
  {
   "cell_type": "code",
   "execution_count": 10,
   "metadata": {},
   "outputs": [
    {
     "name": "stdout",
     "output_type": "stream",
     "text": [
      "  recommended_songs_id  cosine distance\n",
      "0   SOBIQRS12AB0185E55         0.939268\n",
      "1   SOMQGGA12A8C13CCFF         0.858115\n",
      "2   SONMIKJ12AF72A037D         0.937439\n",
      "3   SOXWHDL12AB018E675         0.896243\n",
      "4   SOAKRQZ12A5C5D4218         0.928117\n",
      "5   SOOUCHE12AB018B8FA         0.920360\n",
      "6   SOSDLQS12A6D4F9D84         0.940110\n",
      "7   SOOISQZ12A8C139B0C         0.927044\n",
      "8   SOQINBP12A6310E222         0.794572\n",
      "9   SORIQMF12A6310E9DA         0.844919\n"
     ]
    },
    {
     "data": {
      "text/plain": [
       "(array(['SOBIQRS12AB0185E55', 'SOMQGGA12A8C13CCFF', 'SONMIKJ12AF72A037D',\n",
       "        'SOXWHDL12AB018E675', 'SOAKRQZ12A5C5D4218', 'SOOUCHE12AB018B8FA',\n",
       "        'SOSDLQS12A6D4F9D84', 'SOOISQZ12A8C139B0C', 'SOQINBP12A6310E222',\n",
       "        'SORIQMF12A6310E9DA'], dtype=object),\n",
       " array([0.93926833, 0.85811479, 0.93743888, 0.89624283, 0.92811695,\n",
       "        0.92036022, 0.9401101 , 0.92704422, 0.79457239, 0.8449193 ]))"
      ]
     },
     "execution_count": 10,
     "metadata": {},
     "output_type": "execute_result"
    }
   ],
   "source": [
    "clf.recommend(song_list= song_list, full_name=False, return_song_id=True)"
   ]
  },
  {
   "cell_type": "code",
   "execution_count": 11,
   "metadata": {},
   "outputs": [
    {
     "name": "stdout",
     "output_type": "stream",
     "text": [
      "   recommended_songs_code  cosine distance\n",
      "0                    8762         0.939268\n",
      "1                   81799         0.858115\n",
      "2                   87071         0.937439\n",
      "3                  148871         0.896243\n",
      "4                    2742         0.928117\n",
      "5                   95127         0.920360\n",
      "6                  115153         0.940110\n",
      "7                   92475         0.927044\n",
      "8                  104541         0.794572\n",
      "9                  110421         0.844919\n"
     ]
    },
    {
     "data": {
      "text/plain": [
       "(array([  8762,  81799,  87071, 148871,   2742,  95127, 115153,  92475,\n",
       "        104541, 110421], dtype=int64),\n",
       " array([0.93926833, 0.85811479, 0.93743888, 0.89624283, 0.92811695,\n",
       "        0.92036022, 0.9401101 , 0.92704422, 0.79457239, 0.8449193 ]))"
      ]
     },
     "execution_count": 11,
     "metadata": {},
     "output_type": "execute_result"
    }
   ],
   "source": [
    "clf.recommend(song_list= song_list, full_name=False, return_song_id=False)"
   ]
  },
  {
   "cell_type": "markdown",
   "metadata": {},
   "source": [
    "# same input\n"
   ]
  },
  {
   "cell_type": "code",
   "execution_count": 12,
   "metadata": {},
   "outputs": [
    {
     "data": {
      "text/plain": [
       "array(['SOVINEN12A8C1300A5', 'SOVINEN12A8C1300A5', 'SOVINEN12A8C1300A5',\n",
       "       'SOVINEN12A8C1300A5', 'SOVINEN12A8C1300A5', 'SOVINEN12A8C1300A5',\n",
       "       'SOVINEN12A8C1300A5', 'SOVINEN12A8C1300A5', 'SOVINEN12A8C1300A5',\n",
       "       'SOVINEN12A8C1300A5'], dtype=object)"
      ]
     },
     "execution_count": 12,
     "metadata": {},
     "output_type": "execute_result"
    }
   ],
   "source": [
    "_1_song = np.random.choice(clf.song_label_encoder.classes_,1)\n",
    "_1_same_song = np.array([_1_song,_1_song,_1_song,_1_song,_1_song,_1_song,_1_song,_1_song,_1_song,_1_song]).ravel()\n",
    "_1_same_song"
   ]
  },
  {
   "cell_type": "code",
   "execution_count": 13,
   "metadata": {},
   "outputs": [
    {
     "name": "stdout",
     "output_type": "stream",
     "text": [
      "  recommended_songs_id  cosine distance\n",
      "0   SONDQFO12A8C140165         0.876292\n",
      "1   SOINZUO12AB017FCC7         0.870728\n",
      "2   SOGKBID12B0B808F05         0.865258\n",
      "3   SOWDNPE12A8C144DCD         0.859029\n",
      "4   SOYCTOH12A8C139F16         0.857085\n",
      "5   SODNPLM12A8C13C612         0.855912\n",
      "6   SOIJNHJ12A8C13BF06         0.846607\n",
      "7   SOVLWXJ12A6D4F7302         0.835229\n",
      "8   SOPURSM12A8C13B5BE         0.827146\n",
      "9   SOFSJCX12A8C13009D         0.792587\n"
     ]
    },
    {
     "data": {
      "text/plain": [
       "(array(['SONDQFO12A8C140165', 'SOINZUO12AB017FCC7', 'SOGKBID12B0B808F05',\n",
       "        'SOWDNPE12A8C144DCD', 'SOYCTOH12A8C139F16', 'SODNPLM12A8C13C612',\n",
       "        'SOIJNHJ12A8C13BF06', 'SOVLWXJ12A6D4F7302', 'SOPURSM12A8C13B5BE',\n",
       "        'SOFSJCX12A8C13009D'], dtype=object),\n",
       " array([0.87629195, 0.87072808, 0.86525799, 0.85902903, 0.85708451,\n",
       "        0.85591237, 0.846607  , 0.83522949, 0.82714567, 0.7925869 ]))"
      ]
     },
     "execution_count": 13,
     "metadata": {},
     "output_type": "execute_result"
    }
   ],
   "source": [
    "clf.recommend(song_list=_1_same_song, full_name=True, return_song_id=True)"
   ]
  },
  {
   "cell_type": "code",
   "execution_count": null,
   "metadata": {},
   "outputs": [],
   "source": []
  }
 ],
 "metadata": {
  "kernelspec": {
   "display_name": "Pytorch",
   "language": "python",
   "name": "pytorch"
  },
  "language_info": {
   "codemirror_mode": {
    "name": "ipython",
    "version": 3
   },
   "file_extension": ".py",
   "mimetype": "text/x-python",
   "name": "python",
   "nbconvert_exporter": "python",
   "pygments_lexer": "ipython3",
   "version": "3.7.4"
  }
 },
 "nbformat": 4,
 "nbformat_minor": 2
}

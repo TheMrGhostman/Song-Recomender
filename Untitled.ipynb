{
 "cells": [
  {
   "cell_type": "markdown",
   "metadata": {},
   "source": [
    "# Extraction of user song data\n",
    "- The goal is to be able to select only users who have listened to more than n songs. \n",
    "- Then take 10 random out of the n from each user and put it in a file of \"known\" \"inserted\" songs. \n",
    "- The file of \"unknown\" \"secret\" songs is the third output of this notebook \n"
   ]
  },
  {
   "cell_type": "code",
   "execution_count": 1,
   "metadata": {},
   "outputs": [],
   "source": [
    "import os\n",
    "import pandas as pd\n",
    "import random\n",
    "import dplython\n",
    "import numpy as np\n"
   ]
  },
  {
   "cell_type": "code",
   "execution_count": 2,
   "metadata": {},
   "outputs": [],
   "source": [
    "data_dir = '/Users/filiprolenec/Documents/skola/01DAS/01DAS/song-recomendation/Data/MillionSongSubset'"
   ]
  },
  {
   "cell_type": "code",
   "execution_count": 3,
   "metadata": {},
   "outputs": [],
   "source": [
    "user_song_path = os.path.join(data_dir,'user_song.txt')\n",
    "user_song_data_original = pd.read_csv(user_song_path, sep=\"\\t\", header=None)\n",
    "user_song_data_original.columns = [\"user\", \"song id\", \"count\"]"
   ]
  },
  {
   "cell_type": "code",
   "execution_count": 4,
   "metadata": {},
   "outputs": [
    {
     "name": "stdout",
     "output_type": "stream",
     "text": [
      "10      50608\n",
      "11      46219\n",
      "12      42170\n",
      "13      38721\n",
      "14      35585\n",
      "        ...  \n",
      "1566        1\n",
      "1604        1\n",
      "1614        1\n",
      "1651        1\n",
      "4400        1\n",
      "Name: song id, Length: 920, dtype: int64\n"
     ]
    }
   ],
   "source": [
    "number_of_songs_listened = user_song_data_original[['user','song id']].groupby('user').count()\n",
    "print(number_of_songs_listened['song id'].value_counts().sort_index())\n",
    "\n"
   ]
  },
  {
   "cell_type": "code",
   "execution_count": 5,
   "metadata": {},
   "outputs": [],
   "source": [
    "users_more_than_n = number_of_songs_listened[number_of_songs_listened['song id']>19]['song id'].keys()"
   ]
  },
  {
   "cell_type": "code",
   "execution_count": 6,
   "metadata": {},
   "outputs": [],
   "source": [
    "users_20_plus = user_song_data_original[user_song_data_original['user'].isin(users_more_than_n)].sort_values(['user'])"
   ]
  },
  {
   "cell_type": "markdown",
   "metadata": {},
   "source": [
    "## Now take 10 random out. "
   ]
  },
  {
   "cell_type": "code",
   "execution_count": 8,
   "metadata": {},
   "outputs": [],
   "source": [
    "size = 10        # sample size\n",
    "replace = False  # with replacement\n",
    "fn = lambda obj: obj.loc[np.random.choice(obj.index, size, replace),:]\n",
    "users_20_plus_train = users_20_plus.groupby('user', as_index=False).apply(fn)"
   ]
  },
  {
   "cell_type": "code",
   "execution_count": 9,
   "metadata": {},
   "outputs": [
    {
     "data": {
      "text/html": [
       "<div>\n",
       "<style scoped>\n",
       "    .dataframe tbody tr th:only-of-type {\n",
       "        vertical-align: middle;\n",
       "    }\n",
       "\n",
       "    .dataframe tbody tr th {\n",
       "        vertical-align: top;\n",
       "    }\n",
       "\n",
       "    .dataframe thead th {\n",
       "        text-align: right;\n",
       "    }\n",
       "</style>\n",
       "<table border=\"1\" class=\"dataframe\">\n",
       "  <thead>\n",
       "    <tr style=\"text-align: right;\">\n",
       "      <th></th>\n",
       "      <th></th>\n",
       "      <th>user</th>\n",
       "      <th>song id</th>\n",
       "      <th>count</th>\n",
       "    </tr>\n",
       "  </thead>\n",
       "  <tbody>\n",
       "    <tr>\n",
       "      <td rowspan=\"5\" valign=\"top\">0</td>\n",
       "      <td>27901241</td>\n",
       "      <td>0000267bde1b3a70ea75cf2b2d216cb828e3202b</td>\n",
       "      <td>SORHJAS12AB0187D3F</td>\n",
       "      <td>1</td>\n",
       "    </tr>\n",
       "    <tr>\n",
       "      <td>27901224</td>\n",
       "      <td>0000267bde1b3a70ea75cf2b2d216cb828e3202b</td>\n",
       "      <td>SOBMSCQ12AAF3B51B7</td>\n",
       "      <td>1</td>\n",
       "    </tr>\n",
       "    <tr>\n",
       "      <td>27901227</td>\n",
       "      <td>0000267bde1b3a70ea75cf2b2d216cb828e3202b</td>\n",
       "      <td>SODEYDM12A58A77072</td>\n",
       "      <td>1</td>\n",
       "    </tr>\n",
       "    <tr>\n",
       "      <td>27901225</td>\n",
       "      <td>0000267bde1b3a70ea75cf2b2d216cb828e3202b</td>\n",
       "      <td>SOCAFDI12A8C13D10E</td>\n",
       "      <td>1</td>\n",
       "    </tr>\n",
       "    <tr>\n",
       "      <td>27901237</td>\n",
       "      <td>0000267bde1b3a70ea75cf2b2d216cb828e3202b</td>\n",
       "      <td>SOPOFBW12AB0187196</td>\n",
       "      <td>1</td>\n",
       "    </tr>\n",
       "    <tr>\n",
       "      <td>...</td>\n",
       "      <td>...</td>\n",
       "      <td>...</td>\n",
       "      <td>...</td>\n",
       "      <td>...</td>\n",
       "    </tr>\n",
       "    <tr>\n",
       "      <td rowspan=\"5\" valign=\"top\">661102</td>\n",
       "      <td>31292914</td>\n",
       "      <td>fffff9534445f481b6ab91c345500083d2ce4df1</td>\n",
       "      <td>SODVXIB12AF72A37F3</td>\n",
       "      <td>1</td>\n",
       "    </tr>\n",
       "    <tr>\n",
       "      <td>31292908</td>\n",
       "      <td>fffff9534445f481b6ab91c345500083d2ce4df1</td>\n",
       "      <td>SOAUWYT12A81C206F1</td>\n",
       "      <td>4</td>\n",
       "    </tr>\n",
       "    <tr>\n",
       "      <td>31292919</td>\n",
       "      <td>fffff9534445f481b6ab91c345500083d2ce4df1</td>\n",
       "      <td>SOFYCAM12A58A7A45B</td>\n",
       "      <td>1</td>\n",
       "    </tr>\n",
       "    <tr>\n",
       "      <td>31292930</td>\n",
       "      <td>fffff9534445f481b6ab91c345500083d2ce4df1</td>\n",
       "      <td>SOMCMKG12A8C1347BF</td>\n",
       "      <td>56</td>\n",
       "    </tr>\n",
       "    <tr>\n",
       "      <td>31292939</td>\n",
       "      <td>fffff9534445f481b6ab91c345500083d2ce4df1</td>\n",
       "      <td>SOSKKVC12A58291BFE</td>\n",
       "      <td>1</td>\n",
       "    </tr>\n",
       "  </tbody>\n",
       "</table>\n",
       "<p>6611030 rows × 3 columns</p>\n",
       "</div>"
      ],
      "text/plain": [
       "                                                     user             song id  \\\n",
       "0      27901241  0000267bde1b3a70ea75cf2b2d216cb828e3202b  SORHJAS12AB0187D3F   \n",
       "       27901224  0000267bde1b3a70ea75cf2b2d216cb828e3202b  SOBMSCQ12AAF3B51B7   \n",
       "       27901227  0000267bde1b3a70ea75cf2b2d216cb828e3202b  SODEYDM12A58A77072   \n",
       "       27901225  0000267bde1b3a70ea75cf2b2d216cb828e3202b  SOCAFDI12A8C13D10E   \n",
       "       27901237  0000267bde1b3a70ea75cf2b2d216cb828e3202b  SOPOFBW12AB0187196   \n",
       "...                                                   ...                 ...   \n",
       "661102 31292914  fffff9534445f481b6ab91c345500083d2ce4df1  SODVXIB12AF72A37F3   \n",
       "       31292908  fffff9534445f481b6ab91c345500083d2ce4df1  SOAUWYT12A81C206F1   \n",
       "       31292919  fffff9534445f481b6ab91c345500083d2ce4df1  SOFYCAM12A58A7A45B   \n",
       "       31292930  fffff9534445f481b6ab91c345500083d2ce4df1  SOMCMKG12A8C1347BF   \n",
       "       31292939  fffff9534445f481b6ab91c345500083d2ce4df1  SOSKKVC12A58291BFE   \n",
       "\n",
       "                 count  \n",
       "0      27901241      1  \n",
       "       27901224      1  \n",
       "       27901227      1  \n",
       "       27901225      1  \n",
       "       27901237      1  \n",
       "...                ...  \n",
       "661102 31292914      1  \n",
       "       31292908      4  \n",
       "       31292919      1  \n",
       "       31292930     56  \n",
       "       31292939      1  \n",
       "\n",
       "[6611030 rows x 3 columns]"
      ]
     },
     "execution_count": 9,
     "metadata": {},
     "output_type": "execute_result"
    }
   ],
   "source": [
    "users_20_plus_train"
   ]
  },
  {
   "cell_type": "code",
   "execution_count": 10,
   "metadata": {},
   "outputs": [
    {
     "data": {
      "text/plain": [
       "661103"
      ]
     },
     "execution_count": 10,
     "metadata": {},
     "output_type": "execute_result"
    }
   ],
   "source": [
    "users_20_plus['user'].nunique() #number of unique users"
   ]
  },
  {
   "cell_type": "code",
   "execution_count": 12,
   "metadata": {},
   "outputs": [],
   "source": [
    "users_20_plus_test = pd.concat([users_20_plus,users_20_plus_train]).drop_duplicates(keep=False)\n"
   ]
  },
  {
   "cell_type": "code",
   "execution_count": 13,
   "metadata": {},
   "outputs": [
    {
     "data": {
      "text/html": [
       "<div>\n",
       "<style scoped>\n",
       "    .dataframe tbody tr th:only-of-type {\n",
       "        vertical-align: middle;\n",
       "    }\n",
       "\n",
       "    .dataframe tbody tr th {\n",
       "        vertical-align: top;\n",
       "    }\n",
       "\n",
       "    .dataframe thead th {\n",
       "        text-align: right;\n",
       "    }\n",
       "</style>\n",
       "<table border=\"1\" class=\"dataframe\">\n",
       "  <thead>\n",
       "    <tr style=\"text-align: right;\">\n",
       "      <th></th>\n",
       "      <th>user</th>\n",
       "      <th>song id</th>\n",
       "      <th>count</th>\n",
       "    </tr>\n",
       "  </thead>\n",
       "  <tbody>\n",
       "    <tr>\n",
       "      <td>27901229</td>\n",
       "      <td>0000267bde1b3a70ea75cf2b2d216cb828e3202b</td>\n",
       "      <td>SOHOTAA12A8AE45F43</td>\n",
       "      <td>1</td>\n",
       "    </tr>\n",
       "    <tr>\n",
       "      <td>27901245</td>\n",
       "      <td>0000267bde1b3a70ea75cf2b2d216cb828e3202b</td>\n",
       "      <td>SOXAGVF12A8C13E54F</td>\n",
       "      <td>1</td>\n",
       "    </tr>\n",
       "    <tr>\n",
       "      <td>27901243</td>\n",
       "      <td>0000267bde1b3a70ea75cf2b2d216cb828e3202b</td>\n",
       "      <td>SOVJFSL12A58A7F6A4</td>\n",
       "      <td>1</td>\n",
       "    </tr>\n",
       "    <tr>\n",
       "      <td>27901242</td>\n",
       "      <td>0000267bde1b3a70ea75cf2b2d216cb828e3202b</td>\n",
       "      <td>SOTDKEJ12AB0187AAA</td>\n",
       "      <td>2</td>\n",
       "    </tr>\n",
       "    <tr>\n",
       "      <td>27901240</td>\n",
       "      <td>0000267bde1b3a70ea75cf2b2d216cb828e3202b</td>\n",
       "      <td>SORFFOI12A8C135E10</td>\n",
       "      <td>1</td>\n",
       "    </tr>\n",
       "    <tr>\n",
       "      <td>...</td>\n",
       "      <td>...</td>\n",
       "      <td>...</td>\n",
       "      <td>...</td>\n",
       "    </tr>\n",
       "    <tr>\n",
       "      <td>31292910</td>\n",
       "      <td>fffff9534445f481b6ab91c345500083d2ce4df1</td>\n",
       "      <td>SOBONKR12A58A7A7E0</td>\n",
       "      <td>4</td>\n",
       "    </tr>\n",
       "    <tr>\n",
       "      <td>31292909</td>\n",
       "      <td>fffff9534445f481b6ab91c345500083d2ce4df1</td>\n",
       "      <td>SOBEISM12A6D4F9625</td>\n",
       "      <td>1</td>\n",
       "    </tr>\n",
       "    <tr>\n",
       "      <td>31292945</td>\n",
       "      <td>fffff9534445f481b6ab91c345500083d2ce4df1</td>\n",
       "      <td>SOUVGVC12A58A79ED8</td>\n",
       "      <td>1</td>\n",
       "    </tr>\n",
       "    <tr>\n",
       "      <td>31292943</td>\n",
       "      <td>fffff9534445f481b6ab91c345500083d2ce4df1</td>\n",
       "      <td>SOTMAPQ12A8C13BAFD</td>\n",
       "      <td>1</td>\n",
       "    </tr>\n",
       "    <tr>\n",
       "      <td>31292941</td>\n",
       "      <td>fffff9534445f481b6ab91c345500083d2ce4df1</td>\n",
       "      <td>SOSXLTC12AF72A7F54</td>\n",
       "      <td>10</td>\n",
       "    </tr>\n",
       "  </tbody>\n",
       "</table>\n",
       "<p>36796153 rows × 3 columns</p>\n",
       "</div>"
      ],
      "text/plain": [
       "                                              user             song id  count\n",
       "27901229  0000267bde1b3a70ea75cf2b2d216cb828e3202b  SOHOTAA12A8AE45F43      1\n",
       "27901245  0000267bde1b3a70ea75cf2b2d216cb828e3202b  SOXAGVF12A8C13E54F      1\n",
       "27901243  0000267bde1b3a70ea75cf2b2d216cb828e3202b  SOVJFSL12A58A7F6A4      1\n",
       "27901242  0000267bde1b3a70ea75cf2b2d216cb828e3202b  SOTDKEJ12AB0187AAA      2\n",
       "27901240  0000267bde1b3a70ea75cf2b2d216cb828e3202b  SORFFOI12A8C135E10      1\n",
       "...                                            ...                 ...    ...\n",
       "31292910  fffff9534445f481b6ab91c345500083d2ce4df1  SOBONKR12A58A7A7E0      4\n",
       "31292909  fffff9534445f481b6ab91c345500083d2ce4df1  SOBEISM12A6D4F9625      1\n",
       "31292945  fffff9534445f481b6ab91c345500083d2ce4df1  SOUVGVC12A58A79ED8      1\n",
       "31292943  fffff9534445f481b6ab91c345500083d2ce4df1  SOTMAPQ12A8C13BAFD      1\n",
       "31292941  fffff9534445f481b6ab91c345500083d2ce4df1  SOSXLTC12AF72A7F54     10\n",
       "\n",
       "[36796153 rows x 3 columns]"
      ]
     },
     "execution_count": 13,
     "metadata": {},
     "output_type": "execute_result"
    }
   ],
   "source": [
    "users_20_plus_test"
   ]
  },
  {
   "cell_type": "code",
   "execution_count": 15,
   "metadata": {},
   "outputs": [
    {
     "data": {
      "text/plain": [
       "36796153"
      ]
     },
     "execution_count": 15,
     "metadata": {},
     "output_type": "execute_result"
    }
   ],
   "source": [
    "len(users_20_plus)-len(users_20_plus_train)\n"
   ]
  },
  {
   "cell_type": "code",
   "execution_count": null,
   "metadata": {},
   "outputs": [],
   "source": [
    "file_name_original = '/Users/filiprolenec/Documents/skola/01DAS/01DAS/song-recomendation/Data/BaselineModel/user_20_plus_original.csv'\n",
    "users_20_plus.to_csv(file_name_original, sep=';', index=False)"
   ]
  },
  {
   "cell_type": "code",
   "execution_count": null,
   "metadata": {},
   "outputs": [],
   "source": [
    "file_name_test = '/Users/filiprolenec/Documents/skola/01DAS/01DAS/song-recomendation/Data/BaselineModel/user_20_plus_test.csv'\n",
    "users_20_plus_test.to_csv(file_name_test, sep=';', index=False)"
   ]
  },
  {
   "cell_type": "code",
   "execution_count": null,
   "metadata": {},
   "outputs": [],
   "source": [
    "file_name_train = '/Users/filiprolenec/Documents/skola/01DAS/01DAS/song-recomendation/Data/BaselineModel/user_20_plus_train.csv'\n",
    "users_20_plus_train.to_csv(file_name_train, sep=';', index=False)"
   ]
  }
 ],
 "metadata": {
  "kernelspec": {
   "display_name": "Python 3",
   "language": "python",
   "name": "python3"
  },
  "language_info": {
   "codemirror_mode": {
    "name": "ipython",
    "version": 3
   },
   "file_extension": ".py",
   "mimetype": "text/x-python",
   "name": "python",
   "nbconvert_exporter": "python",
   "pygments_lexer": "ipython3",
   "version": "3.7.4"
  }
 },
 "nbformat": 4,
 "nbformat_minor": 2
}

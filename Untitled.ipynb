{
 "cells": [
  {
   "cell_type": "markdown",
   "metadata": {},
   "source": [
    "# Extraction of user song data\n",
    "- The goal is to be able to select only users who have listened to more than n songs. \n",
    "- Then take 10 random out of the n from each user and put it in a file of \"known\" \"inserted\" songs. \n",
    "- The file of \"unknown\" \"secret\" songs is the third output of this notebook \n"
   ]
  },
  {
   "cell_type": "code",
   "execution_count": 70,
   "metadata": {},
   "outputs": [],
   "source": [
    "import os\n",
    "import pandas as pd\n",
    "import random\n",
    "import dplython\n",
    "import numpy as np\n",
    "import sys\n",
    "from sklearn import preprocessing"
   ]
  },
  {
   "cell_type": "code",
   "execution_count": 7,
   "metadata": {},
   "outputs": [
    {
     "data": {
      "text/plain": [
       "'/Users/Ghosty/Desktop/1.NMS/DAS/Song-Recommender'"
      ]
     },
     "execution_count": 7,
     "metadata": {},
     "output_type": "execute_result"
    }
   ],
   "source": [
    "#data_dir = '/Users/filiprolenec/Documents/skola/01DAS/01DAS/song-recomendation/Data/MillionSongSubset'\n",
    "data_dir = os.getcwd()\n",
    "data_dir"
   ]
  },
  {
   "cell_type": "code",
   "execution_count": 9,
   "metadata": {},
   "outputs": [],
   "source": [
    "user_song_path = os.path.join(data_dir,'train_triplets.txt')\n",
    "user_song_data_original = pd.read_csv(user_song_path, sep=\"\\t\", header=None)\n",
    "user_song_data_original.columns = [\"user\", \"song id\", \"count\"]"
   ]
  },
  {
   "cell_type": "code",
   "execution_count": 10,
   "metadata": {},
   "outputs": [
    {
     "name": "stdout",
     "output_type": "stream",
     "text": [
      "10      50608\n",
      "11      46219\n",
      "12      42170\n",
      "13      38721\n",
      "14      35585\n",
      "15      33065\n",
      "16      30834\n",
      "17      28662\n",
      "18      26931\n",
      "19      25420\n",
      "20      23627\n",
      "21      22268\n",
      "22      20679\n",
      "23      19546\n",
      "24      18646\n",
      "25      17473\n",
      "26      16836\n",
      "27      15770\n",
      "28      14943\n",
      "29      14372\n",
      "30      13814\n",
      "31      12887\n",
      "32      12566\n",
      "33      11652\n",
      "34      11352\n",
      "35      10774\n",
      "36      10402\n",
      "37      10004\n",
      "38       9713\n",
      "39       9237\n",
      "        ...  \n",
      "1147        1\n",
      "1155        1\n",
      "1158        2\n",
      "1161        1\n",
      "1165        1\n",
      "1172        1\n",
      "1181        1\n",
      "1199        1\n",
      "1221        1\n",
      "1230        1\n",
      "1236        1\n",
      "1241        1\n",
      "1245        1\n",
      "1254        1\n",
      "1257        1\n",
      "1267        1\n",
      "1319        1\n",
      "1370        1\n",
      "1373        1\n",
      "1398        1\n",
      "1446        1\n",
      "1451        1\n",
      "1491        1\n",
      "1536        1\n",
      "1544        1\n",
      "1566        1\n",
      "1604        1\n",
      "1614        1\n",
      "1651        1\n",
      "4400        1\n",
      "Name: song id, Length: 920, dtype: int64\n"
     ]
    }
   ],
   "source": [
    "number_of_songs_listened = user_song_data_original[['user','song id']].groupby('user').count()\n",
    "print(number_of_songs_listened['song id'].value_counts().sort_index())\n",
    "\n"
   ]
  },
  {
   "cell_type": "code",
   "execution_count": 11,
   "metadata": {},
   "outputs": [],
   "source": [
    "users_more_than_n = number_of_songs_listened[number_of_songs_listened['song id']>19]['song id'].keys()"
   ]
  },
  {
   "cell_type": "code",
   "execution_count": 12,
   "metadata": {},
   "outputs": [],
   "source": [
    "users_20_plus = user_song_data_original[user_song_data_original['user'].isin(users_more_than_n)].sort_values(['user'])"
   ]
  },
  {
   "cell_type": "markdown",
   "metadata": {},
   "source": [
    "## Now take 10 random out. "
   ]
  },
  {
   "cell_type": "code",
   "execution_count": 13,
   "metadata": {},
   "outputs": [],
   "source": [
    "size = 10        # sample size\n",
    "replace = False  # with replacement\n",
    "fn = lambda obj: obj.loc[np.random.choice(obj.index, size, replace),:]\n",
    "users_20_plus_train = users_20_plus.groupby('user', as_index=False).apply(fn)"
   ]
  },
  {
   "cell_type": "code",
   "execution_count": 14,
   "metadata": {},
   "outputs": [
    {
     "data": {
      "text/html": [
       "<div>\n",
       "<style scoped>\n",
       "    .dataframe tbody tr th:only-of-type {\n",
       "        vertical-align: middle;\n",
       "    }\n",
       "\n",
       "    .dataframe tbody tr th {\n",
       "        vertical-align: top;\n",
       "    }\n",
       "\n",
       "    .dataframe thead th {\n",
       "        text-align: right;\n",
       "    }\n",
       "</style>\n",
       "<table border=\"1\" class=\"dataframe\">\n",
       "  <thead>\n",
       "    <tr style=\"text-align: right;\">\n",
       "      <th></th>\n",
       "      <th></th>\n",
       "      <th>user</th>\n",
       "      <th>song id</th>\n",
       "      <th>count</th>\n",
       "    </tr>\n",
       "  </thead>\n",
       "  <tbody>\n",
       "    <tr>\n",
       "      <th rowspan=\"10\" valign=\"top\">0</th>\n",
       "      <th>27901242</th>\n",
       "      <td>0000267bde1b3a70ea75cf2b2d216cb828e3202b</td>\n",
       "      <td>SOTDKEJ12AB0187AAA</td>\n",
       "      <td>2</td>\n",
       "    </tr>\n",
       "    <tr>\n",
       "      <th>27901225</th>\n",
       "      <td>0000267bde1b3a70ea75cf2b2d216cb828e3202b</td>\n",
       "      <td>SOCAFDI12A8C13D10E</td>\n",
       "      <td>1</td>\n",
       "    </tr>\n",
       "    <tr>\n",
       "      <th>27901241</th>\n",
       "      <td>0000267bde1b3a70ea75cf2b2d216cb828e3202b</td>\n",
       "      <td>SORHJAS12AB0187D3F</td>\n",
       "      <td>1</td>\n",
       "    </tr>\n",
       "    <tr>\n",
       "      <th>27901233</th>\n",
       "      <td>0000267bde1b3a70ea75cf2b2d216cb828e3202b</td>\n",
       "      <td>SOLWRQM12AB0184C86</td>\n",
       "      <td>1</td>\n",
       "    </tr>\n",
       "    <tr>\n",
       "      <th>27901246</th>\n",
       "      <td>0000267bde1b3a70ea75cf2b2d216cb828e3202b</td>\n",
       "      <td>SOYHTAT12A81C23955</td>\n",
       "      <td>1</td>\n",
       "    </tr>\n",
       "    <tr>\n",
       "      <th>27901240</th>\n",
       "      <td>0000267bde1b3a70ea75cf2b2d216cb828e3202b</td>\n",
       "      <td>SORFFOI12A8C135E10</td>\n",
       "      <td>1</td>\n",
       "    </tr>\n",
       "    <tr>\n",
       "      <th>27901224</th>\n",
       "      <td>0000267bde1b3a70ea75cf2b2d216cb828e3202b</td>\n",
       "      <td>SOBMSCQ12AAF3B51B7</td>\n",
       "      <td>1</td>\n",
       "    </tr>\n",
       "    <tr>\n",
       "      <th>27901247</th>\n",
       "      <td>0000267bde1b3a70ea75cf2b2d216cb828e3202b</td>\n",
       "      <td>SOZJPFX12A6D4F7280</td>\n",
       "      <td>1</td>\n",
       "    </tr>\n",
       "    <tr>\n",
       "      <th>27901244</th>\n",
       "      <td>0000267bde1b3a70ea75cf2b2d216cb828e3202b</td>\n",
       "      <td>SOWMGHQ12A6D4F914D</td>\n",
       "      <td>1</td>\n",
       "    </tr>\n",
       "    <tr>\n",
       "      <th>27901237</th>\n",
       "      <td>0000267bde1b3a70ea75cf2b2d216cb828e3202b</td>\n",
       "      <td>SOPOFBW12AB0187196</td>\n",
       "      <td>1</td>\n",
       "    </tr>\n",
       "    <tr>\n",
       "      <th rowspan=\"10\" valign=\"top\">1</th>\n",
       "      <th>33605592</th>\n",
       "      <td>00004fb90a86beb8bed1e9e328f5d9b6ee7dc03e</td>\n",
       "      <td>SOGVKXX12A67ADA0B8</td>\n",
       "      <td>1</td>\n",
       "    </tr>\n",
       "    <tr>\n",
       "      <th>33605582</th>\n",
       "      <td>00004fb90a86beb8bed1e9e328f5d9b6ee7dc03e</td>\n",
       "      <td>SOBIMTY12A6D4F931F</td>\n",
       "      <td>1</td>\n",
       "    </tr>\n",
       "    <tr>\n",
       "      <th>33605602</th>\n",
       "      <td>00004fb90a86beb8bed1e9e328f5d9b6ee7dc03e</td>\n",
       "      <td>SOOLKLP12AF729D959</td>\n",
       "      <td>2</td>\n",
       "    </tr>\n",
       "    <tr>\n",
       "      <th>33605623</th>\n",
       "      <td>00004fb90a86beb8bed1e9e328f5d9b6ee7dc03e</td>\n",
       "      <td>SOYEQLD12AB017C713</td>\n",
       "      <td>1</td>\n",
       "    </tr>\n",
       "    <tr>\n",
       "      <th>33605627</th>\n",
       "      <td>00004fb90a86beb8bed1e9e328f5d9b6ee7dc03e</td>\n",
       "      <td>SOZORGY12A8C140382</td>\n",
       "      <td>1</td>\n",
       "    </tr>\n",
       "    <tr>\n",
       "      <th>33605628</th>\n",
       "      <td>00004fb90a86beb8bed1e9e328f5d9b6ee7dc03e</td>\n",
       "      <td>SOZVCRW12A67ADA0B7</td>\n",
       "      <td>1</td>\n",
       "    </tr>\n",
       "    <tr>\n",
       "      <th>33605618</th>\n",
       "      <td>00004fb90a86beb8bed1e9e328f5d9b6ee7dc03e</td>\n",
       "      <td>SOWQLXP12AF72A08A2</td>\n",
       "      <td>2</td>\n",
       "    </tr>\n",
       "    <tr>\n",
       "      <th>33605594</th>\n",
       "      <td>00004fb90a86beb8bed1e9e328f5d9b6ee7dc03e</td>\n",
       "      <td>SOGZCOB12A8C14280E</td>\n",
       "      <td>2</td>\n",
       "    </tr>\n",
       "    <tr>\n",
       "      <th>33605588</th>\n",
       "      <td>00004fb90a86beb8bed1e9e328f5d9b6ee7dc03e</td>\n",
       "      <td>SOFXJCS12A58A7DF02</td>\n",
       "      <td>1</td>\n",
       "    </tr>\n",
       "    <tr>\n",
       "      <th>33605608</th>\n",
       "      <td>00004fb90a86beb8bed1e9e328f5d9b6ee7dc03e</td>\n",
       "      <td>SOQWZAB12AB017C6F7</td>\n",
       "      <td>1</td>\n",
       "    </tr>\n",
       "    <tr>\n",
       "      <th rowspan=\"10\" valign=\"top\">2</th>\n",
       "      <th>8000312</th>\n",
       "      <td>000060ca4e6bea0a5c9037fc1bbd7bbabb98c754</td>\n",
       "      <td>SORWXBN12A6701E3E7</td>\n",
       "      <td>1</td>\n",
       "    </tr>\n",
       "    <tr>\n",
       "      <th>8000290</th>\n",
       "      <td>000060ca4e6bea0a5c9037fc1bbd7bbabb98c754</td>\n",
       "      <td>SOBPQSZ12A6D4FACBB</td>\n",
       "      <td>1</td>\n",
       "    </tr>\n",
       "    <tr>\n",
       "      <th>8000319</th>\n",
       "      <td>000060ca4e6bea0a5c9037fc1bbd7bbabb98c754</td>\n",
       "      <td>SOYUXZJ12A6D4F86F1</td>\n",
       "      <td>1</td>\n",
       "    </tr>\n",
       "    <tr>\n",
       "      <th>8000288</th>\n",
       "      <td>000060ca4e6bea0a5c9037fc1bbd7bbabb98c754</td>\n",
       "      <td>SOBMGEE12A8C137B1D</td>\n",
       "      <td>1</td>\n",
       "    </tr>\n",
       "    <tr>\n",
       "      <th>8000304</th>\n",
       "      <td>000060ca4e6bea0a5c9037fc1bbd7bbabb98c754</td>\n",
       "      <td>SOKXYIL12AB0189157</td>\n",
       "      <td>2</td>\n",
       "    </tr>\n",
       "    <tr>\n",
       "      <th>8000298</th>\n",
       "      <td>000060ca4e6bea0a5c9037fc1bbd7bbabb98c754</td>\n",
       "      <td>SOILWTV12A6D4F4A4B</td>\n",
       "      <td>1</td>\n",
       "    </tr>\n",
       "    <tr>\n",
       "      <th>8000317</th>\n",
       "      <td>000060ca4e6bea0a5c9037fc1bbd7bbabb98c754</td>\n",
       "      <td>SOVSLCI12A8C137ED3</td>\n",
       "      <td>1</td>\n",
       "    </tr>\n",
       "    <tr>\n",
       "      <th>8000301</th>\n",
       "      <td>000060ca4e6bea0a5c9037fc1bbd7bbabb98c754</td>\n",
       "      <td>SOJUOYC12AB017F6A7</td>\n",
       "      <td>1</td>\n",
       "    </tr>\n",
       "    <tr>\n",
       "      <th>8000302</th>\n",
       "      <td>000060ca4e6bea0a5c9037fc1bbd7bbabb98c754</td>\n",
       "      <td>SOKBRAQ12A6D4F8FEC</td>\n",
       "      <td>7</td>\n",
       "    </tr>\n",
       "    <tr>\n",
       "      <th>8000296</th>\n",
       "      <td>000060ca4e6bea0a5c9037fc1bbd7bbabb98c754</td>\n",
       "      <td>SOHLBZD12A58A7B0AC</td>\n",
       "      <td>1</td>\n",
       "    </tr>\n",
       "    <tr>\n",
       "      <th>...</th>\n",
       "      <th>...</th>\n",
       "      <td>...</td>\n",
       "      <td>...</td>\n",
       "      <td>...</td>\n",
       "    </tr>\n",
       "    <tr>\n",
       "      <th rowspan=\"10\" valign=\"top\">661100</th>\n",
       "      <th>25594095</th>\n",
       "      <td>ffffdc6c89988cd6119067769162948eacf8b670</td>\n",
       "      <td>SOWQJHJ12A6D4F8BAC</td>\n",
       "      <td>1</td>\n",
       "    </tr>\n",
       "    <tr>\n",
       "      <th>25594056</th>\n",
       "      <td>ffffdc6c89988cd6119067769162948eacf8b670</td>\n",
       "      <td>SOBVEAF12A58A79B3D</td>\n",
       "      <td>11</td>\n",
       "    </tr>\n",
       "    <tr>\n",
       "      <th>25594090</th>\n",
       "      <td>ffffdc6c89988cd6119067769162948eacf8b670</td>\n",
       "      <td>SOUZVJK12A8C13BB98</td>\n",
       "      <td>1</td>\n",
       "    </tr>\n",
       "    <tr>\n",
       "      <th>25594076</th>\n",
       "      <td>ffffdc6c89988cd6119067769162948eacf8b670</td>\n",
       "      <td>SOOVFYS12A81C23135</td>\n",
       "      <td>4</td>\n",
       "    </tr>\n",
       "    <tr>\n",
       "      <th>25594055</th>\n",
       "      <td>ffffdc6c89988cd6119067769162948eacf8b670</td>\n",
       "      <td>SOBNQII12A6D4F8BAB</td>\n",
       "      <td>4</td>\n",
       "    </tr>\n",
       "    <tr>\n",
       "      <th>25594071</th>\n",
       "      <td>ffffdc6c89988cd6119067769162948eacf8b670</td>\n",
       "      <td>SONDQRT12AB01834BF</td>\n",
       "      <td>7</td>\n",
       "    </tr>\n",
       "    <tr>\n",
       "      <th>25594080</th>\n",
       "      <td>ffffdc6c89988cd6119067769162948eacf8b670</td>\n",
       "      <td>SOQENWM12AB017EDE0</td>\n",
       "      <td>5</td>\n",
       "    </tr>\n",
       "    <tr>\n",
       "      <th>25594086</th>\n",
       "      <td>ffffdc6c89988cd6119067769162948eacf8b670</td>\n",
       "      <td>SOUMFMQ12A6D4F8BAF</td>\n",
       "      <td>1</td>\n",
       "    </tr>\n",
       "    <tr>\n",
       "      <th>25594079</th>\n",
       "      <td>ffffdc6c89988cd6119067769162948eacf8b670</td>\n",
       "      <td>SOPXKYD12A6D4FA876</td>\n",
       "      <td>5</td>\n",
       "    </tr>\n",
       "    <tr>\n",
       "      <th>25594082</th>\n",
       "      <td>ffffdc6c89988cd6119067769162948eacf8b670</td>\n",
       "      <td>SORKVNZ12A6D4F8BAA</td>\n",
       "      <td>1</td>\n",
       "    </tr>\n",
       "    <tr>\n",
       "      <th rowspan=\"10\" valign=\"top\">661101</th>\n",
       "      <th>8217067</th>\n",
       "      <td>fffff67d54a40927c93d03bd6c816b034b59f087</td>\n",
       "      <td>SOGZZEA12AB0182864</td>\n",
       "      <td>1</td>\n",
       "    </tr>\n",
       "    <tr>\n",
       "      <th>8217082</th>\n",
       "      <td>fffff67d54a40927c93d03bd6c816b034b59f087</td>\n",
       "      <td>SOMVCFL12A8C1354BF</td>\n",
       "      <td>1</td>\n",
       "    </tr>\n",
       "    <tr>\n",
       "      <th>8217115</th>\n",
       "      <td>fffff67d54a40927c93d03bd6c816b034b59f087</td>\n",
       "      <td>SOWSNLL12A8C135AA0</td>\n",
       "      <td>1</td>\n",
       "    </tr>\n",
       "    <tr>\n",
       "      <th>8217121</th>\n",
       "      <td>fffff67d54a40927c93d03bd6c816b034b59f087</td>\n",
       "      <td>SOYDGGU12AF72A66DD</td>\n",
       "      <td>2</td>\n",
       "    </tr>\n",
       "    <tr>\n",
       "      <th>8217096</th>\n",
       "      <td>fffff67d54a40927c93d03bd6c816b034b59f087</td>\n",
       "      <td>SOPIONV12A8C136230</td>\n",
       "      <td>2</td>\n",
       "    </tr>\n",
       "    <tr>\n",
       "      <th>8217091</th>\n",
       "      <td>fffff67d54a40927c93d03bd6c816b034b59f087</td>\n",
       "      <td>SONYILQ12A6D4FBF19</td>\n",
       "      <td>1</td>\n",
       "    </tr>\n",
       "    <tr>\n",
       "      <th>8217046</th>\n",
       "      <td>fffff67d54a40927c93d03bd6c816b034b59f087</td>\n",
       "      <td>SOAYFJH12AB0182847</td>\n",
       "      <td>4</td>\n",
       "    </tr>\n",
       "    <tr>\n",
       "      <th>8217052</th>\n",
       "      <td>fffff67d54a40927c93d03bd6c816b034b59f087</td>\n",
       "      <td>SOBTFMZ12A58A7A22B</td>\n",
       "      <td>2</td>\n",
       "    </tr>\n",
       "    <tr>\n",
       "      <th>8217090</th>\n",
       "      <td>fffff67d54a40927c93d03bd6c816b034b59f087</td>\n",
       "      <td>SONXSAK12A8AE46FEA</td>\n",
       "      <td>2</td>\n",
       "    </tr>\n",
       "    <tr>\n",
       "      <th>8217068</th>\n",
       "      <td>fffff67d54a40927c93d03bd6c816b034b59f087</td>\n",
       "      <td>SOHBRGR12A6D4F6CFA</td>\n",
       "      <td>2</td>\n",
       "    </tr>\n",
       "    <tr>\n",
       "      <th rowspan=\"10\" valign=\"top\">661102</th>\n",
       "      <th>31292940</th>\n",
       "      <td>fffff9534445f481b6ab91c345500083d2ce4df1</td>\n",
       "      <td>SOSRJRK12AB0186FF4</td>\n",
       "      <td>1</td>\n",
       "    </tr>\n",
       "    <tr>\n",
       "      <th>31292926</th>\n",
       "      <td>fffff9534445f481b6ab91c345500083d2ce4df1</td>\n",
       "      <td>SOIZZXF12AB0187C34</td>\n",
       "      <td>1</td>\n",
       "    </tr>\n",
       "    <tr>\n",
       "      <th>31292915</th>\n",
       "      <td>fffff9534445f481b6ab91c345500083d2ce4df1</td>\n",
       "      <td>SOETNDN12AC9070E79</td>\n",
       "      <td>3</td>\n",
       "    </tr>\n",
       "    <tr>\n",
       "      <th>31292937</th>\n",
       "      <td>fffff9534445f481b6ab91c345500083d2ce4df1</td>\n",
       "      <td>SOQMLVU12A6701F8ED</td>\n",
       "      <td>1</td>\n",
       "    </tr>\n",
       "    <tr>\n",
       "      <th>31292911</th>\n",
       "      <td>fffff9534445f481b6ab91c345500083d2ce4df1</td>\n",
       "      <td>SOBYSSP12AAF3B32CA</td>\n",
       "      <td>25</td>\n",
       "    </tr>\n",
       "    <tr>\n",
       "      <th>31292920</th>\n",
       "      <td>fffff9534445f481b6ab91c345500083d2ce4df1</td>\n",
       "      <td>SOGOCXR12A67ADA6B7</td>\n",
       "      <td>5</td>\n",
       "    </tr>\n",
       "    <tr>\n",
       "      <th>31292924</th>\n",
       "      <td>fffff9534445f481b6ab91c345500083d2ce4df1</td>\n",
       "      <td>SOHIRJY12A6D4FA46E</td>\n",
       "      <td>1</td>\n",
       "    </tr>\n",
       "    <tr>\n",
       "      <th>31292914</th>\n",
       "      <td>fffff9534445f481b6ab91c345500083d2ce4df1</td>\n",
       "      <td>SODVXIB12AF72A37F3</td>\n",
       "      <td>1</td>\n",
       "    </tr>\n",
       "    <tr>\n",
       "      <th>31292930</th>\n",
       "      <td>fffff9534445f481b6ab91c345500083d2ce4df1</td>\n",
       "      <td>SOMCMKG12A8C1347BF</td>\n",
       "      <td>56</td>\n",
       "    </tr>\n",
       "    <tr>\n",
       "      <th>31292936</th>\n",
       "      <td>fffff9534445f481b6ab91c345500083d2ce4df1</td>\n",
       "      <td>SOQBVCL12AB0187D0B</td>\n",
       "      <td>56</td>\n",
       "    </tr>\n",
       "  </tbody>\n",
       "</table>\n",
       "<p>6611030 rows × 3 columns</p>\n",
       "</div>"
      ],
      "text/plain": [
       "                                                     user             song id  \\\n",
       "0      27901242  0000267bde1b3a70ea75cf2b2d216cb828e3202b  SOTDKEJ12AB0187AAA   \n",
       "       27901225  0000267bde1b3a70ea75cf2b2d216cb828e3202b  SOCAFDI12A8C13D10E   \n",
       "       27901241  0000267bde1b3a70ea75cf2b2d216cb828e3202b  SORHJAS12AB0187D3F   \n",
       "       27901233  0000267bde1b3a70ea75cf2b2d216cb828e3202b  SOLWRQM12AB0184C86   \n",
       "       27901246  0000267bde1b3a70ea75cf2b2d216cb828e3202b  SOYHTAT12A81C23955   \n",
       "       27901240  0000267bde1b3a70ea75cf2b2d216cb828e3202b  SORFFOI12A8C135E10   \n",
       "       27901224  0000267bde1b3a70ea75cf2b2d216cb828e3202b  SOBMSCQ12AAF3B51B7   \n",
       "       27901247  0000267bde1b3a70ea75cf2b2d216cb828e3202b  SOZJPFX12A6D4F7280   \n",
       "       27901244  0000267bde1b3a70ea75cf2b2d216cb828e3202b  SOWMGHQ12A6D4F914D   \n",
       "       27901237  0000267bde1b3a70ea75cf2b2d216cb828e3202b  SOPOFBW12AB0187196   \n",
       "1      33605592  00004fb90a86beb8bed1e9e328f5d9b6ee7dc03e  SOGVKXX12A67ADA0B8   \n",
       "       33605582  00004fb90a86beb8bed1e9e328f5d9b6ee7dc03e  SOBIMTY12A6D4F931F   \n",
       "       33605602  00004fb90a86beb8bed1e9e328f5d9b6ee7dc03e  SOOLKLP12AF729D959   \n",
       "       33605623  00004fb90a86beb8bed1e9e328f5d9b6ee7dc03e  SOYEQLD12AB017C713   \n",
       "       33605627  00004fb90a86beb8bed1e9e328f5d9b6ee7dc03e  SOZORGY12A8C140382   \n",
       "       33605628  00004fb90a86beb8bed1e9e328f5d9b6ee7dc03e  SOZVCRW12A67ADA0B7   \n",
       "       33605618  00004fb90a86beb8bed1e9e328f5d9b6ee7dc03e  SOWQLXP12AF72A08A2   \n",
       "       33605594  00004fb90a86beb8bed1e9e328f5d9b6ee7dc03e  SOGZCOB12A8C14280E   \n",
       "       33605588  00004fb90a86beb8bed1e9e328f5d9b6ee7dc03e  SOFXJCS12A58A7DF02   \n",
       "       33605608  00004fb90a86beb8bed1e9e328f5d9b6ee7dc03e  SOQWZAB12AB017C6F7   \n",
       "2      8000312   000060ca4e6bea0a5c9037fc1bbd7bbabb98c754  SORWXBN12A6701E3E7   \n",
       "       8000290   000060ca4e6bea0a5c9037fc1bbd7bbabb98c754  SOBPQSZ12A6D4FACBB   \n",
       "       8000319   000060ca4e6bea0a5c9037fc1bbd7bbabb98c754  SOYUXZJ12A6D4F86F1   \n",
       "       8000288   000060ca4e6bea0a5c9037fc1bbd7bbabb98c754  SOBMGEE12A8C137B1D   \n",
       "       8000304   000060ca4e6bea0a5c9037fc1bbd7bbabb98c754  SOKXYIL12AB0189157   \n",
       "       8000298   000060ca4e6bea0a5c9037fc1bbd7bbabb98c754  SOILWTV12A6D4F4A4B   \n",
       "       8000317   000060ca4e6bea0a5c9037fc1bbd7bbabb98c754  SOVSLCI12A8C137ED3   \n",
       "       8000301   000060ca4e6bea0a5c9037fc1bbd7bbabb98c754  SOJUOYC12AB017F6A7   \n",
       "       8000302   000060ca4e6bea0a5c9037fc1bbd7bbabb98c754  SOKBRAQ12A6D4F8FEC   \n",
       "       8000296   000060ca4e6bea0a5c9037fc1bbd7bbabb98c754  SOHLBZD12A58A7B0AC   \n",
       "...                                                   ...                 ...   \n",
       "661100 25594095  ffffdc6c89988cd6119067769162948eacf8b670  SOWQJHJ12A6D4F8BAC   \n",
       "       25594056  ffffdc6c89988cd6119067769162948eacf8b670  SOBVEAF12A58A79B3D   \n",
       "       25594090  ffffdc6c89988cd6119067769162948eacf8b670  SOUZVJK12A8C13BB98   \n",
       "       25594076  ffffdc6c89988cd6119067769162948eacf8b670  SOOVFYS12A81C23135   \n",
       "       25594055  ffffdc6c89988cd6119067769162948eacf8b670  SOBNQII12A6D4F8BAB   \n",
       "       25594071  ffffdc6c89988cd6119067769162948eacf8b670  SONDQRT12AB01834BF   \n",
       "       25594080  ffffdc6c89988cd6119067769162948eacf8b670  SOQENWM12AB017EDE0   \n",
       "       25594086  ffffdc6c89988cd6119067769162948eacf8b670  SOUMFMQ12A6D4F8BAF   \n",
       "       25594079  ffffdc6c89988cd6119067769162948eacf8b670  SOPXKYD12A6D4FA876   \n",
       "       25594082  ffffdc6c89988cd6119067769162948eacf8b670  SORKVNZ12A6D4F8BAA   \n",
       "661101 8217067   fffff67d54a40927c93d03bd6c816b034b59f087  SOGZZEA12AB0182864   \n",
       "       8217082   fffff67d54a40927c93d03bd6c816b034b59f087  SOMVCFL12A8C1354BF   \n",
       "       8217115   fffff67d54a40927c93d03bd6c816b034b59f087  SOWSNLL12A8C135AA0   \n",
       "       8217121   fffff67d54a40927c93d03bd6c816b034b59f087  SOYDGGU12AF72A66DD   \n",
       "       8217096   fffff67d54a40927c93d03bd6c816b034b59f087  SOPIONV12A8C136230   \n",
       "       8217091   fffff67d54a40927c93d03bd6c816b034b59f087  SONYILQ12A6D4FBF19   \n",
       "       8217046   fffff67d54a40927c93d03bd6c816b034b59f087  SOAYFJH12AB0182847   \n",
       "       8217052   fffff67d54a40927c93d03bd6c816b034b59f087  SOBTFMZ12A58A7A22B   \n",
       "       8217090   fffff67d54a40927c93d03bd6c816b034b59f087  SONXSAK12A8AE46FEA   \n",
       "       8217068   fffff67d54a40927c93d03bd6c816b034b59f087  SOHBRGR12A6D4F6CFA   \n",
       "661102 31292940  fffff9534445f481b6ab91c345500083d2ce4df1  SOSRJRK12AB0186FF4   \n",
       "       31292926  fffff9534445f481b6ab91c345500083d2ce4df1  SOIZZXF12AB0187C34   \n",
       "       31292915  fffff9534445f481b6ab91c345500083d2ce4df1  SOETNDN12AC9070E79   \n",
       "       31292937  fffff9534445f481b6ab91c345500083d2ce4df1  SOQMLVU12A6701F8ED   \n",
       "       31292911  fffff9534445f481b6ab91c345500083d2ce4df1  SOBYSSP12AAF3B32CA   \n",
       "       31292920  fffff9534445f481b6ab91c345500083d2ce4df1  SOGOCXR12A67ADA6B7   \n",
       "       31292924  fffff9534445f481b6ab91c345500083d2ce4df1  SOHIRJY12A6D4FA46E   \n",
       "       31292914  fffff9534445f481b6ab91c345500083d2ce4df1  SODVXIB12AF72A37F3   \n",
       "       31292930  fffff9534445f481b6ab91c345500083d2ce4df1  SOMCMKG12A8C1347BF   \n",
       "       31292936  fffff9534445f481b6ab91c345500083d2ce4df1  SOQBVCL12AB0187D0B   \n",
       "\n",
       "                 count  \n",
       "0      27901242      2  \n",
       "       27901225      1  \n",
       "       27901241      1  \n",
       "       27901233      1  \n",
       "       27901246      1  \n",
       "       27901240      1  \n",
       "       27901224      1  \n",
       "       27901247      1  \n",
       "       27901244      1  \n",
       "       27901237      1  \n",
       "1      33605592      1  \n",
       "       33605582      1  \n",
       "       33605602      2  \n",
       "       33605623      1  \n",
       "       33605627      1  \n",
       "       33605628      1  \n",
       "       33605618      2  \n",
       "       33605594      2  \n",
       "       33605588      1  \n",
       "       33605608      1  \n",
       "2      8000312       1  \n",
       "       8000290       1  \n",
       "       8000319       1  \n",
       "       8000288       1  \n",
       "       8000304       2  \n",
       "       8000298       1  \n",
       "       8000317       1  \n",
       "       8000301       1  \n",
       "       8000302       7  \n",
       "       8000296       1  \n",
       "...                ...  \n",
       "661100 25594095      1  \n",
       "       25594056     11  \n",
       "       25594090      1  \n",
       "       25594076      4  \n",
       "       25594055      4  \n",
       "       25594071      7  \n",
       "       25594080      5  \n",
       "       25594086      1  \n",
       "       25594079      5  \n",
       "       25594082      1  \n",
       "661101 8217067       1  \n",
       "       8217082       1  \n",
       "       8217115       1  \n",
       "       8217121       2  \n",
       "       8217096       2  \n",
       "       8217091       1  \n",
       "       8217046       4  \n",
       "       8217052       2  \n",
       "       8217090       2  \n",
       "       8217068       2  \n",
       "661102 31292940      1  \n",
       "       31292926      1  \n",
       "       31292915      3  \n",
       "       31292937      1  \n",
       "       31292911     25  \n",
       "       31292920      5  \n",
       "       31292924      1  \n",
       "       31292914      1  \n",
       "       31292930     56  \n",
       "       31292936     56  \n",
       "\n",
       "[6611030 rows x 3 columns]"
      ]
     },
     "execution_count": 14,
     "metadata": {},
     "output_type": "execute_result"
    }
   ],
   "source": [
    "users_20_plus_train"
   ]
  },
  {
   "cell_type": "code",
   "execution_count": 15,
   "metadata": {},
   "outputs": [
    {
     "data": {
      "text/plain": [
       "661103"
      ]
     },
     "execution_count": 15,
     "metadata": {},
     "output_type": "execute_result"
    }
   ],
   "source": [
    "users_20_plus['user'].nunique() #number of unique users"
   ]
  },
  {
   "cell_type": "code",
   "execution_count": 16,
   "metadata": {},
   "outputs": [],
   "source": [
    "users_20_plus_test = pd.concat([users_20_plus,users_20_plus_train]).drop_duplicates(keep=False)\n"
   ]
  },
  {
   "cell_type": "code",
   "execution_count": 17,
   "metadata": {},
   "outputs": [
    {
     "data": {
      "text/html": [
       "<div>\n",
       "<style scoped>\n",
       "    .dataframe tbody tr th:only-of-type {\n",
       "        vertical-align: middle;\n",
       "    }\n",
       "\n",
       "    .dataframe tbody tr th {\n",
       "        vertical-align: top;\n",
       "    }\n",
       "\n",
       "    .dataframe thead th {\n",
       "        text-align: right;\n",
       "    }\n",
       "</style>\n",
       "<table border=\"1\" class=\"dataframe\">\n",
       "  <thead>\n",
       "    <tr style=\"text-align: right;\">\n",
       "      <th></th>\n",
       "      <th>user</th>\n",
       "      <th>song id</th>\n",
       "      <th>count</th>\n",
       "    </tr>\n",
       "  </thead>\n",
       "  <tbody>\n",
       "    <tr>\n",
       "      <th>27901229</th>\n",
       "      <td>0000267bde1b3a70ea75cf2b2d216cb828e3202b</td>\n",
       "      <td>SOHOTAA12A8AE45F43</td>\n",
       "      <td>1</td>\n",
       "    </tr>\n",
       "    <tr>\n",
       "      <th>27901245</th>\n",
       "      <td>0000267bde1b3a70ea75cf2b2d216cb828e3202b</td>\n",
       "      <td>SOXAGVF12A8C13E54F</td>\n",
       "      <td>1</td>\n",
       "    </tr>\n",
       "    <tr>\n",
       "      <th>27901243</th>\n",
       "      <td>0000267bde1b3a70ea75cf2b2d216cb828e3202b</td>\n",
       "      <td>SOVJFSL12A58A7F6A4</td>\n",
       "      <td>1</td>\n",
       "    </tr>\n",
       "    <tr>\n",
       "      <th>27901239</th>\n",
       "      <td>0000267bde1b3a70ea75cf2b2d216cb828e3202b</td>\n",
       "      <td>SOQLDTI12AB018C80A</td>\n",
       "      <td>1</td>\n",
       "    </tr>\n",
       "    <tr>\n",
       "      <th>27901238</th>\n",
       "      <td>0000267bde1b3a70ea75cf2b2d216cb828e3202b</td>\n",
       "      <td>SOPQGWI12A8C135DDB</td>\n",
       "      <td>1</td>\n",
       "    </tr>\n",
       "    <tr>\n",
       "      <th>27901236</th>\n",
       "      <td>0000267bde1b3a70ea75cf2b2d216cb828e3202b</td>\n",
       "      <td>SOOSJIV12AF729E09E</td>\n",
       "      <td>1</td>\n",
       "    </tr>\n",
       "    <tr>\n",
       "      <th>27901235</th>\n",
       "      <td>0000267bde1b3a70ea75cf2b2d216cb828e3202b</td>\n",
       "      <td>SOMNPAP12A8C1385D6</td>\n",
       "      <td>1</td>\n",
       "    </tr>\n",
       "    <tr>\n",
       "      <th>27901234</th>\n",
       "      <td>0000267bde1b3a70ea75cf2b2d216cb828e3202b</td>\n",
       "      <td>SOMCHHT12A8C13B9F2</td>\n",
       "      <td>1</td>\n",
       "    </tr>\n",
       "    <tr>\n",
       "      <th>27901232</th>\n",
       "      <td>0000267bde1b3a70ea75cf2b2d216cb828e3202b</td>\n",
       "      <td>SOJERWB12A8C13E654</td>\n",
       "      <td>1</td>\n",
       "    </tr>\n",
       "    <tr>\n",
       "      <th>27901231</th>\n",
       "      <td>0000267bde1b3a70ea75cf2b2d216cb828e3202b</td>\n",
       "      <td>SOIYHAZ12A6D4F6D30</td>\n",
       "      <td>2</td>\n",
       "    </tr>\n",
       "    <tr>\n",
       "      <th>27901230</th>\n",
       "      <td>0000267bde1b3a70ea75cf2b2d216cb828e3202b</td>\n",
       "      <td>SOIMCDE12A6D4F8383</td>\n",
       "      <td>1</td>\n",
       "    </tr>\n",
       "    <tr>\n",
       "      <th>27901228</th>\n",
       "      <td>0000267bde1b3a70ea75cf2b2d216cb828e3202b</td>\n",
       "      <td>SOGNFOD12A6D4F8584</td>\n",
       "      <td>1</td>\n",
       "    </tr>\n",
       "    <tr>\n",
       "      <th>27901227</th>\n",
       "      <td>0000267bde1b3a70ea75cf2b2d216cb828e3202b</td>\n",
       "      <td>SODEYDM12A58A77072</td>\n",
       "      <td>1</td>\n",
       "    </tr>\n",
       "    <tr>\n",
       "      <th>27901226</th>\n",
       "      <td>0000267bde1b3a70ea75cf2b2d216cb828e3202b</td>\n",
       "      <td>SOCJCVE12A8C13CDDB</td>\n",
       "      <td>1</td>\n",
       "    </tr>\n",
       "    <tr>\n",
       "      <th>27901223</th>\n",
       "      <td>0000267bde1b3a70ea75cf2b2d216cb828e3202b</td>\n",
       "      <td>SOAPHBN12AF72A60EF</td>\n",
       "      <td>1</td>\n",
       "    </tr>\n",
       "    <tr>\n",
       "      <th>33605604</th>\n",
       "      <td>00004fb90a86beb8bed1e9e328f5d9b6ee7dc03e</td>\n",
       "      <td>SOPHBRE12A8C142825</td>\n",
       "      <td>2</td>\n",
       "    </tr>\n",
       "    <tr>\n",
       "      <th>33605601</th>\n",
       "      <td>00004fb90a86beb8bed1e9e328f5d9b6ee7dc03e</td>\n",
       "      <td>SOLQYRD12A8C13CAF5</td>\n",
       "      <td>2</td>\n",
       "    </tr>\n",
       "    <tr>\n",
       "      <th>33605600</th>\n",
       "      <td>00004fb90a86beb8bed1e9e328f5d9b6ee7dc03e</td>\n",
       "      <td>SOLCSYN12AF72A049D</td>\n",
       "      <td>1</td>\n",
       "    </tr>\n",
       "    <tr>\n",
       "      <th>33605599</th>\n",
       "      <td>00004fb90a86beb8bed1e9e328f5d9b6ee7dc03e</td>\n",
       "      <td>SOKUECJ12A6D4F6129</td>\n",
       "      <td>1</td>\n",
       "    </tr>\n",
       "    <tr>\n",
       "      <th>33605598</th>\n",
       "      <td>00004fb90a86beb8bed1e9e328f5d9b6ee7dc03e</td>\n",
       "      <td>SOKEYJQ12A6D4F6132</td>\n",
       "      <td>1</td>\n",
       "    </tr>\n",
       "    <tr>\n",
       "      <th>33605597</th>\n",
       "      <td>00004fb90a86beb8bed1e9e328f5d9b6ee7dc03e</td>\n",
       "      <td>SOJGSIO12A8C141DBF</td>\n",
       "      <td>1</td>\n",
       "    </tr>\n",
       "    <tr>\n",
       "      <th>33605596</th>\n",
       "      <td>00004fb90a86beb8bed1e9e328f5d9b6ee7dc03e</td>\n",
       "      <td>SOIXKRK12A8C140BD1</td>\n",
       "      <td>1</td>\n",
       "    </tr>\n",
       "    <tr>\n",
       "      <th>33605595</th>\n",
       "      <td>00004fb90a86beb8bed1e9e328f5d9b6ee7dc03e</td>\n",
       "      <td>SOIGHWG12A8C136A37</td>\n",
       "      <td>2</td>\n",
       "    </tr>\n",
       "    <tr>\n",
       "      <th>33605593</th>\n",
       "      <td>00004fb90a86beb8bed1e9e328f5d9b6ee7dc03e</td>\n",
       "      <td>SOGXWGC12AF72A8F9A</td>\n",
       "      <td>1</td>\n",
       "    </tr>\n",
       "    <tr>\n",
       "      <th>33605591</th>\n",
       "      <td>00004fb90a86beb8bed1e9e328f5d9b6ee7dc03e</td>\n",
       "      <td>SOGIDSA12A8C142829</td>\n",
       "      <td>3</td>\n",
       "    </tr>\n",
       "    <tr>\n",
       "      <th>33605590</th>\n",
       "      <td>00004fb90a86beb8bed1e9e328f5d9b6ee7dc03e</td>\n",
       "      <td>SOGFFET12A58A7ECA9</td>\n",
       "      <td>1</td>\n",
       "    </tr>\n",
       "    <tr>\n",
       "      <th>33605589</th>\n",
       "      <td>00004fb90a86beb8bed1e9e328f5d9b6ee7dc03e</td>\n",
       "      <td>SOGDQWF12A67AD954F</td>\n",
       "      <td>1</td>\n",
       "    </tr>\n",
       "    <tr>\n",
       "      <th>33605587</th>\n",
       "      <td>00004fb90a86beb8bed1e9e328f5d9b6ee7dc03e</td>\n",
       "      <td>SOFFWDQ12A8C13B433</td>\n",
       "      <td>3</td>\n",
       "    </tr>\n",
       "    <tr>\n",
       "      <th>33605586</th>\n",
       "      <td>00004fb90a86beb8bed1e9e328f5d9b6ee7dc03e</td>\n",
       "      <td>SODPPBT12A8C141D90</td>\n",
       "      <td>2</td>\n",
       "    </tr>\n",
       "    <tr>\n",
       "      <th>33605585</th>\n",
       "      <td>00004fb90a86beb8bed1e9e328f5d9b6ee7dc03e</td>\n",
       "      <td>SODHJHX12A58A7D24C</td>\n",
       "      <td>2</td>\n",
       "    </tr>\n",
       "    <tr>\n",
       "      <th>...</th>\n",
       "      <td>...</td>\n",
       "      <td>...</td>\n",
       "      <td>...</td>\n",
       "    </tr>\n",
       "    <tr>\n",
       "      <th>31292928</th>\n",
       "      <td>fffff9534445f481b6ab91c345500083d2ce4df1</td>\n",
       "      <td>SOLEWSO12A58A7BAD4</td>\n",
       "      <td>1</td>\n",
       "    </tr>\n",
       "    <tr>\n",
       "      <th>31292921</th>\n",
       "      <td>fffff9534445f481b6ab91c345500083d2ce4df1</td>\n",
       "      <td>SOGTGED12A8C145FBE</td>\n",
       "      <td>1</td>\n",
       "    </tr>\n",
       "    <tr>\n",
       "      <th>31292922</th>\n",
       "      <td>fffff9534445f481b6ab91c345500083d2ce4df1</td>\n",
       "      <td>SOGXSJZ12A8AE45AAD</td>\n",
       "      <td>20</td>\n",
       "    </tr>\n",
       "    <tr>\n",
       "      <th>31292923</th>\n",
       "      <td>fffff9534445f481b6ab91c345500083d2ce4df1</td>\n",
       "      <td>SOGYNYW12A8C144429</td>\n",
       "      <td>1</td>\n",
       "    </tr>\n",
       "    <tr>\n",
       "      <th>31292935</th>\n",
       "      <td>fffff9534445f481b6ab91c345500083d2ce4df1</td>\n",
       "      <td>SOPOREW12AF729C250</td>\n",
       "      <td>1</td>\n",
       "    </tr>\n",
       "    <tr>\n",
       "      <th>31292934</th>\n",
       "      <td>fffff9534445f481b6ab91c345500083d2ce4df1</td>\n",
       "      <td>SOOOWXV12A6D4F4763</td>\n",
       "      <td>1</td>\n",
       "    </tr>\n",
       "    <tr>\n",
       "      <th>31292925</th>\n",
       "      <td>fffff9534445f481b6ab91c345500083d2ce4df1</td>\n",
       "      <td>SOIZYSO12A58A7BA28</td>\n",
       "      <td>1</td>\n",
       "    </tr>\n",
       "    <tr>\n",
       "      <th>31292933</th>\n",
       "      <td>fffff9534445f481b6ab91c345500083d2ce4df1</td>\n",
       "      <td>SOOFYTN12A6D4F9B35</td>\n",
       "      <td>72</td>\n",
       "    </tr>\n",
       "    <tr>\n",
       "      <th>31292932</th>\n",
       "      <td>fffff9534445f481b6ab91c345500083d2ce4df1</td>\n",
       "      <td>SONYEOJ12A8C142E86</td>\n",
       "      <td>32</td>\n",
       "    </tr>\n",
       "    <tr>\n",
       "      <th>31292931</th>\n",
       "      <td>fffff9534445f481b6ab91c345500083d2ce4df1</td>\n",
       "      <td>SONHWUN12AC468C014</td>\n",
       "      <td>1</td>\n",
       "    </tr>\n",
       "    <tr>\n",
       "      <th>31292927</th>\n",
       "      <td>fffff9534445f481b6ab91c345500083d2ce4df1</td>\n",
       "      <td>SOJJNND12A6D4F475D</td>\n",
       "      <td>1</td>\n",
       "    </tr>\n",
       "    <tr>\n",
       "      <th>31292929</th>\n",
       "      <td>fffff9534445f481b6ab91c345500083d2ce4df1</td>\n",
       "      <td>SOLHYCY12A8C14118A</td>\n",
       "      <td>4</td>\n",
       "    </tr>\n",
       "    <tr>\n",
       "      <th>31292946</th>\n",
       "      <td>fffff9534445f481b6ab91c345500083d2ce4df1</td>\n",
       "      <td>SOWSHHE12AF729F422</td>\n",
       "      <td>1</td>\n",
       "    </tr>\n",
       "    <tr>\n",
       "      <th>31292942</th>\n",
       "      <td>fffff9534445f481b6ab91c345500083d2ce4df1</td>\n",
       "      <td>SOTJSCD12A8C14093B</td>\n",
       "      <td>1</td>\n",
       "    </tr>\n",
       "    <tr>\n",
       "      <th>31292919</th>\n",
       "      <td>fffff9534445f481b6ab91c345500083d2ce4df1</td>\n",
       "      <td>SOFYCAM12A58A7A45B</td>\n",
       "      <td>1</td>\n",
       "    </tr>\n",
       "    <tr>\n",
       "      <th>31292918</th>\n",
       "      <td>fffff9534445f481b6ab91c345500083d2ce4df1</td>\n",
       "      <td>SOFLMTG12A58A7D556</td>\n",
       "      <td>1</td>\n",
       "    </tr>\n",
       "    <tr>\n",
       "      <th>31292917</th>\n",
       "      <td>fffff9534445f481b6ab91c345500083d2ce4df1</td>\n",
       "      <td>SOFLJQZ12A6D4FADA6</td>\n",
       "      <td>8</td>\n",
       "    </tr>\n",
       "    <tr>\n",
       "      <th>31292916</th>\n",
       "      <td>fffff9534445f481b6ab91c345500083d2ce4df1</td>\n",
       "      <td>SOFBBQE12A8C144B14</td>\n",
       "      <td>1</td>\n",
       "    </tr>\n",
       "    <tr>\n",
       "      <th>31292913</th>\n",
       "      <td>fffff9534445f481b6ab91c345500083d2ce4df1</td>\n",
       "      <td>SODFONJ12A8C136042</td>\n",
       "      <td>6</td>\n",
       "    </tr>\n",
       "    <tr>\n",
       "      <th>31292912</th>\n",
       "      <td>fffff9534445f481b6ab91c345500083d2ce4df1</td>\n",
       "      <td>SOCZJIQ12C0DDBD461</td>\n",
       "      <td>4</td>\n",
       "    </tr>\n",
       "    <tr>\n",
       "      <th>31292910</th>\n",
       "      <td>fffff9534445f481b6ab91c345500083d2ce4df1</td>\n",
       "      <td>SOBONKR12A58A7A7E0</td>\n",
       "      <td>4</td>\n",
       "    </tr>\n",
       "    <tr>\n",
       "      <th>31292909</th>\n",
       "      <td>fffff9534445f481b6ab91c345500083d2ce4df1</td>\n",
       "      <td>SOBEISM12A6D4F9625</td>\n",
       "      <td>1</td>\n",
       "    </tr>\n",
       "    <tr>\n",
       "      <th>31292908</th>\n",
       "      <td>fffff9534445f481b6ab91c345500083d2ce4df1</td>\n",
       "      <td>SOAUWYT12A81C206F1</td>\n",
       "      <td>4</td>\n",
       "    </tr>\n",
       "    <tr>\n",
       "      <th>31292939</th>\n",
       "      <td>fffff9534445f481b6ab91c345500083d2ce4df1</td>\n",
       "      <td>SOSKKVC12A58291BFE</td>\n",
       "      <td>1</td>\n",
       "    </tr>\n",
       "    <tr>\n",
       "      <th>31292947</th>\n",
       "      <td>fffff9534445f481b6ab91c345500083d2ce4df1</td>\n",
       "      <td>SOZCSAE12AB018458D</td>\n",
       "      <td>1</td>\n",
       "    </tr>\n",
       "    <tr>\n",
       "      <th>31292945</th>\n",
       "      <td>fffff9534445f481b6ab91c345500083d2ce4df1</td>\n",
       "      <td>SOUVGVC12A58A79ED8</td>\n",
       "      <td>1</td>\n",
       "    </tr>\n",
       "    <tr>\n",
       "      <th>31292944</th>\n",
       "      <td>fffff9534445f481b6ab91c345500083d2ce4df1</td>\n",
       "      <td>SOUPIYD12A6701DD0B</td>\n",
       "      <td>24</td>\n",
       "    </tr>\n",
       "    <tr>\n",
       "      <th>31292943</th>\n",
       "      <td>fffff9534445f481b6ab91c345500083d2ce4df1</td>\n",
       "      <td>SOTMAPQ12A8C13BAFD</td>\n",
       "      <td>1</td>\n",
       "    </tr>\n",
       "    <tr>\n",
       "      <th>31292941</th>\n",
       "      <td>fffff9534445f481b6ab91c345500083d2ce4df1</td>\n",
       "      <td>SOSXLTC12AF72A7F54</td>\n",
       "      <td>10</td>\n",
       "    </tr>\n",
       "    <tr>\n",
       "      <th>31292938</th>\n",
       "      <td>fffff9534445f481b6ab91c345500083d2ce4df1</td>\n",
       "      <td>SOQZQNK12A81C1F9D0</td>\n",
       "      <td>35</td>\n",
       "    </tr>\n",
       "  </tbody>\n",
       "</table>\n",
       "<p>36796153 rows × 3 columns</p>\n",
       "</div>"
      ],
      "text/plain": [
       "                                              user             song id  count\n",
       "27901229  0000267bde1b3a70ea75cf2b2d216cb828e3202b  SOHOTAA12A8AE45F43      1\n",
       "27901245  0000267bde1b3a70ea75cf2b2d216cb828e3202b  SOXAGVF12A8C13E54F      1\n",
       "27901243  0000267bde1b3a70ea75cf2b2d216cb828e3202b  SOVJFSL12A58A7F6A4      1\n",
       "27901239  0000267bde1b3a70ea75cf2b2d216cb828e3202b  SOQLDTI12AB018C80A      1\n",
       "27901238  0000267bde1b3a70ea75cf2b2d216cb828e3202b  SOPQGWI12A8C135DDB      1\n",
       "27901236  0000267bde1b3a70ea75cf2b2d216cb828e3202b  SOOSJIV12AF729E09E      1\n",
       "27901235  0000267bde1b3a70ea75cf2b2d216cb828e3202b  SOMNPAP12A8C1385D6      1\n",
       "27901234  0000267bde1b3a70ea75cf2b2d216cb828e3202b  SOMCHHT12A8C13B9F2      1\n",
       "27901232  0000267bde1b3a70ea75cf2b2d216cb828e3202b  SOJERWB12A8C13E654      1\n",
       "27901231  0000267bde1b3a70ea75cf2b2d216cb828e3202b  SOIYHAZ12A6D4F6D30      2\n",
       "27901230  0000267bde1b3a70ea75cf2b2d216cb828e3202b  SOIMCDE12A6D4F8383      1\n",
       "27901228  0000267bde1b3a70ea75cf2b2d216cb828e3202b  SOGNFOD12A6D4F8584      1\n",
       "27901227  0000267bde1b3a70ea75cf2b2d216cb828e3202b  SODEYDM12A58A77072      1\n",
       "27901226  0000267bde1b3a70ea75cf2b2d216cb828e3202b  SOCJCVE12A8C13CDDB      1\n",
       "27901223  0000267bde1b3a70ea75cf2b2d216cb828e3202b  SOAPHBN12AF72A60EF      1\n",
       "33605604  00004fb90a86beb8bed1e9e328f5d9b6ee7dc03e  SOPHBRE12A8C142825      2\n",
       "33605601  00004fb90a86beb8bed1e9e328f5d9b6ee7dc03e  SOLQYRD12A8C13CAF5      2\n",
       "33605600  00004fb90a86beb8bed1e9e328f5d9b6ee7dc03e  SOLCSYN12AF72A049D      1\n",
       "33605599  00004fb90a86beb8bed1e9e328f5d9b6ee7dc03e  SOKUECJ12A6D4F6129      1\n",
       "33605598  00004fb90a86beb8bed1e9e328f5d9b6ee7dc03e  SOKEYJQ12A6D4F6132      1\n",
       "33605597  00004fb90a86beb8bed1e9e328f5d9b6ee7dc03e  SOJGSIO12A8C141DBF      1\n",
       "33605596  00004fb90a86beb8bed1e9e328f5d9b6ee7dc03e  SOIXKRK12A8C140BD1      1\n",
       "33605595  00004fb90a86beb8bed1e9e328f5d9b6ee7dc03e  SOIGHWG12A8C136A37      2\n",
       "33605593  00004fb90a86beb8bed1e9e328f5d9b6ee7dc03e  SOGXWGC12AF72A8F9A      1\n",
       "33605591  00004fb90a86beb8bed1e9e328f5d9b6ee7dc03e  SOGIDSA12A8C142829      3\n",
       "33605590  00004fb90a86beb8bed1e9e328f5d9b6ee7dc03e  SOGFFET12A58A7ECA9      1\n",
       "33605589  00004fb90a86beb8bed1e9e328f5d9b6ee7dc03e  SOGDQWF12A67AD954F      1\n",
       "33605587  00004fb90a86beb8bed1e9e328f5d9b6ee7dc03e  SOFFWDQ12A8C13B433      3\n",
       "33605586  00004fb90a86beb8bed1e9e328f5d9b6ee7dc03e  SODPPBT12A8C141D90      2\n",
       "33605585  00004fb90a86beb8bed1e9e328f5d9b6ee7dc03e  SODHJHX12A58A7D24C      2\n",
       "...                                            ...                 ...    ...\n",
       "31292928  fffff9534445f481b6ab91c345500083d2ce4df1  SOLEWSO12A58A7BAD4      1\n",
       "31292921  fffff9534445f481b6ab91c345500083d2ce4df1  SOGTGED12A8C145FBE      1\n",
       "31292922  fffff9534445f481b6ab91c345500083d2ce4df1  SOGXSJZ12A8AE45AAD     20\n",
       "31292923  fffff9534445f481b6ab91c345500083d2ce4df1  SOGYNYW12A8C144429      1\n",
       "31292935  fffff9534445f481b6ab91c345500083d2ce4df1  SOPOREW12AF729C250      1\n",
       "31292934  fffff9534445f481b6ab91c345500083d2ce4df1  SOOOWXV12A6D4F4763      1\n",
       "31292925  fffff9534445f481b6ab91c345500083d2ce4df1  SOIZYSO12A58A7BA28      1\n",
       "31292933  fffff9534445f481b6ab91c345500083d2ce4df1  SOOFYTN12A6D4F9B35     72\n",
       "31292932  fffff9534445f481b6ab91c345500083d2ce4df1  SONYEOJ12A8C142E86     32\n",
       "31292931  fffff9534445f481b6ab91c345500083d2ce4df1  SONHWUN12AC468C014      1\n",
       "31292927  fffff9534445f481b6ab91c345500083d2ce4df1  SOJJNND12A6D4F475D      1\n",
       "31292929  fffff9534445f481b6ab91c345500083d2ce4df1  SOLHYCY12A8C14118A      4\n",
       "31292946  fffff9534445f481b6ab91c345500083d2ce4df1  SOWSHHE12AF729F422      1\n",
       "31292942  fffff9534445f481b6ab91c345500083d2ce4df1  SOTJSCD12A8C14093B      1\n",
       "31292919  fffff9534445f481b6ab91c345500083d2ce4df1  SOFYCAM12A58A7A45B      1\n",
       "31292918  fffff9534445f481b6ab91c345500083d2ce4df1  SOFLMTG12A58A7D556      1\n",
       "31292917  fffff9534445f481b6ab91c345500083d2ce4df1  SOFLJQZ12A6D4FADA6      8\n",
       "31292916  fffff9534445f481b6ab91c345500083d2ce4df1  SOFBBQE12A8C144B14      1\n",
       "31292913  fffff9534445f481b6ab91c345500083d2ce4df1  SODFONJ12A8C136042      6\n",
       "31292912  fffff9534445f481b6ab91c345500083d2ce4df1  SOCZJIQ12C0DDBD461      4\n",
       "31292910  fffff9534445f481b6ab91c345500083d2ce4df1  SOBONKR12A58A7A7E0      4\n",
       "31292909  fffff9534445f481b6ab91c345500083d2ce4df1  SOBEISM12A6D4F9625      1\n",
       "31292908  fffff9534445f481b6ab91c345500083d2ce4df1  SOAUWYT12A81C206F1      4\n",
       "31292939  fffff9534445f481b6ab91c345500083d2ce4df1  SOSKKVC12A58291BFE      1\n",
       "31292947  fffff9534445f481b6ab91c345500083d2ce4df1  SOZCSAE12AB018458D      1\n",
       "31292945  fffff9534445f481b6ab91c345500083d2ce4df1  SOUVGVC12A58A79ED8      1\n",
       "31292944  fffff9534445f481b6ab91c345500083d2ce4df1  SOUPIYD12A6701DD0B     24\n",
       "31292943  fffff9534445f481b6ab91c345500083d2ce4df1  SOTMAPQ12A8C13BAFD      1\n",
       "31292941  fffff9534445f481b6ab91c345500083d2ce4df1  SOSXLTC12AF72A7F54     10\n",
       "31292938  fffff9534445f481b6ab91c345500083d2ce4df1  SOQZQNK12A81C1F9D0     35\n",
       "\n",
       "[36796153 rows x 3 columns]"
      ]
     },
     "execution_count": 17,
     "metadata": {},
     "output_type": "execute_result"
    }
   ],
   "source": [
    "users_20_plus_test"
   ]
  },
  {
   "cell_type": "code",
   "execution_count": 18,
   "metadata": {},
   "outputs": [
    {
     "data": {
      "text/plain": [
       "36796153"
      ]
     },
     "execution_count": 18,
     "metadata": {},
     "output_type": "execute_result"
    }
   ],
   "source": [
    "len(users_20_plus)-len(users_20_plus_train)\n"
   ]
  },
  {
   "cell_type": "code",
   "execution_count": 19,
   "metadata": {
    "collapsed": true
   },
   "outputs": [
    {
     "ename": "KeyboardInterrupt",
     "evalue": "",
     "output_type": "error",
     "traceback": [
      "\u001b[0;31m---------------------------------------------------------------------------\u001b[0m",
      "\u001b[0;31mKeyboardInterrupt\u001b[0m                         Traceback (most recent call last)",
      "\u001b[0;32m<ipython-input-19-14eb0cda1adc>\u001b[0m in \u001b[0;36m<module>\u001b[0;34m\u001b[0m\n\u001b[1;32m      1\u001b[0m \u001b[0mfile_name_original\u001b[0m \u001b[0;34m=\u001b[0m \u001b[0;34m'data/user_20_plus_original.csv'\u001b[0m \u001b[0;31m#'/Users/filiprolenec/Documents/skola/01DAS/01DAS/song-recomendation/Data/BaselineModel/\u001b[0m\u001b[0;34m\u001b[0m\u001b[0;34m\u001b[0m\u001b[0m\n\u001b[0;32m----> 2\u001b[0;31m \u001b[0musers_20_plus\u001b[0m\u001b[0;34m.\u001b[0m\u001b[0mto_csv\u001b[0m\u001b[0;34m(\u001b[0m\u001b[0mfile_name_original\u001b[0m\u001b[0;34m,\u001b[0m \u001b[0msep\u001b[0m\u001b[0;34m=\u001b[0m\u001b[0;34m';'\u001b[0m\u001b[0;34m,\u001b[0m \u001b[0mindex\u001b[0m\u001b[0;34m=\u001b[0m\u001b[0;32mFalse\u001b[0m\u001b[0;34m)\u001b[0m\u001b[0;34m\u001b[0m\u001b[0;34m\u001b[0m\u001b[0m\n\u001b[0m",
      "\u001b[0;32m~/miniconda3/lib/python3.7/site-packages/pandas/core/frame.py\u001b[0m in \u001b[0;36mto_csv\u001b[0;34m(self, path_or_buf, sep, na_rep, float_format, columns, header, index, index_label, mode, encoding, compression, quoting, quotechar, line_terminator, chunksize, tupleize_cols, date_format, doublequote, escapechar, decimal)\u001b[0m\n\u001b[1;32m   1743\u001b[0m                                  \u001b[0mdoublequote\u001b[0m\u001b[0;34m=\u001b[0m\u001b[0mdoublequote\u001b[0m\u001b[0;34m,\u001b[0m\u001b[0;34m\u001b[0m\u001b[0;34m\u001b[0m\u001b[0m\n\u001b[1;32m   1744\u001b[0m                                  escapechar=escapechar, decimal=decimal)\n\u001b[0;32m-> 1745\u001b[0;31m         \u001b[0mformatter\u001b[0m\u001b[0;34m.\u001b[0m\u001b[0msave\u001b[0m\u001b[0;34m(\u001b[0m\u001b[0;34m)\u001b[0m\u001b[0;34m\u001b[0m\u001b[0;34m\u001b[0m\u001b[0m\n\u001b[0m\u001b[1;32m   1746\u001b[0m \u001b[0;34m\u001b[0m\u001b[0m\n\u001b[1;32m   1747\u001b[0m         \u001b[0;32mif\u001b[0m \u001b[0mpath_or_buf\u001b[0m \u001b[0;32mis\u001b[0m \u001b[0;32mNone\u001b[0m\u001b[0;34m:\u001b[0m\u001b[0;34m\u001b[0m\u001b[0;34m\u001b[0m\u001b[0m\n",
      "\u001b[0;32m~/miniconda3/lib/python3.7/site-packages/pandas/io/formats/csvs.py\u001b[0m in \u001b[0;36msave\u001b[0;34m(self)\u001b[0m\n\u001b[1;32m    169\u001b[0m                 \u001b[0mself\u001b[0m\u001b[0;34m.\u001b[0m\u001b[0mwriter\u001b[0m \u001b[0;34m=\u001b[0m \u001b[0mUnicodeWriter\u001b[0m\u001b[0;34m(\u001b[0m\u001b[0mf\u001b[0m\u001b[0;34m,\u001b[0m \u001b[0;34m**\u001b[0m\u001b[0mwriter_kwargs\u001b[0m\u001b[0;34m)\u001b[0m\u001b[0;34m\u001b[0m\u001b[0;34m\u001b[0m\u001b[0m\n\u001b[1;32m    170\u001b[0m \u001b[0;34m\u001b[0m\u001b[0m\n\u001b[0;32m--> 171\u001b[0;31m             \u001b[0mself\u001b[0m\u001b[0;34m.\u001b[0m\u001b[0m_save\u001b[0m\u001b[0;34m(\u001b[0m\u001b[0;34m)\u001b[0m\u001b[0;34m\u001b[0m\u001b[0;34m\u001b[0m\u001b[0m\n\u001b[0m\u001b[1;32m    172\u001b[0m \u001b[0;34m\u001b[0m\u001b[0m\n\u001b[1;32m    173\u001b[0m         \u001b[0;32mfinally\u001b[0m\u001b[0;34m:\u001b[0m\u001b[0;34m\u001b[0m\u001b[0;34m\u001b[0m\u001b[0m\n",
      "\u001b[0;32m~/miniconda3/lib/python3.7/site-packages/pandas/io/formats/csvs.py\u001b[0m in \u001b[0;36m_save\u001b[0;34m(self)\u001b[0m\n\u001b[1;32m    284\u001b[0m                 \u001b[0;32mbreak\u001b[0m\u001b[0;34m\u001b[0m\u001b[0;34m\u001b[0m\u001b[0m\n\u001b[1;32m    285\u001b[0m \u001b[0;34m\u001b[0m\u001b[0m\n\u001b[0;32m--> 286\u001b[0;31m             \u001b[0mself\u001b[0m\u001b[0;34m.\u001b[0m\u001b[0m_save_chunk\u001b[0m\u001b[0;34m(\u001b[0m\u001b[0mstart_i\u001b[0m\u001b[0;34m,\u001b[0m \u001b[0mend_i\u001b[0m\u001b[0;34m)\u001b[0m\u001b[0;34m\u001b[0m\u001b[0;34m\u001b[0m\u001b[0m\n\u001b[0m\u001b[1;32m    287\u001b[0m \u001b[0;34m\u001b[0m\u001b[0m\n\u001b[1;32m    288\u001b[0m     \u001b[0;32mdef\u001b[0m \u001b[0m_save_chunk\u001b[0m\u001b[0;34m(\u001b[0m\u001b[0mself\u001b[0m\u001b[0;34m,\u001b[0m \u001b[0mstart_i\u001b[0m\u001b[0;34m,\u001b[0m \u001b[0mend_i\u001b[0m\u001b[0;34m)\u001b[0m\u001b[0;34m:\u001b[0m\u001b[0;34m\u001b[0m\u001b[0;34m\u001b[0m\u001b[0m\n",
      "\u001b[0;32m~/miniconda3/lib/python3.7/site-packages/pandas/io/formats/csvs.py\u001b[0m in \u001b[0;36m_save_chunk\u001b[0;34m(self, start_i, end_i)\u001b[0m\n\u001b[1;32m    311\u001b[0m \u001b[0;34m\u001b[0m\u001b[0m\n\u001b[1;32m    312\u001b[0m         libwriters.write_csv_rows(self.data, ix, self.nlevels,\n\u001b[0;32m--> 313\u001b[0;31m                                   self.cols, self.writer)\n\u001b[0m",
      "\u001b[0;32mpandas/_libs/writers.pyx\u001b[0m in \u001b[0;36mpandas._libs.writers.write_csv_rows\u001b[0;34m()\u001b[0m\n",
      "\u001b[0;31mKeyboardInterrupt\u001b[0m: "
     ]
    }
   ],
   "source": [
    "file_name_original = 'data/user_20_plus_original.csv' #'/Users/filiprolenec/Documents/skola/01DAS/01DAS/song-recomendation/Data/BaselineModel/\n",
    "users_20_plus.to_csv(file_name_original, sep=';', index=False)"
   ]
  },
  {
   "cell_type": "code",
   "execution_count": null,
   "metadata": {},
   "outputs": [],
   "source": [
    "file_name_test = 'data/user_20_plus_test.csv' #/Users/filiprolenec/Documents/skola/01DAS/01DAS/song-recomendation/Data/BaselineModel/\n",
    "users_20_plus_test.to_csv(file_name_test, sep=';', index=False)"
   ]
  },
  {
   "cell_type": "code",
   "execution_count": null,
   "metadata": {},
   "outputs": [],
   "source": [
    "file_name_train = 'data/user_20_plus_train.csv' # /Users/filiprolenec/Documents/skola/01DAS/01DAS/song-recomendation/Data/BaselineModel/\n",
    "users_20_plus_train.to_csv(file_name_train, sep=';', index=False)"
   ]
  },
  {
   "cell_type": "code",
   "execution_count": 33,
   "metadata": {},
   "outputs": [
    {
     "data": {
      "text/plain": [
       "array(['SOHOTAA12A8AE45F43', 'SOXAGVF12A8C13E54F', 'SOWMGHQ12A6D4F914D',\n",
       "       ..., 'SOYYXIP12AB01846F7', 'SOPYNRN12AB017AB97',\n",
       "       'SOIUSDT12AB018C1B3'], dtype=object)"
      ]
     },
     "execution_count": 33,
     "metadata": {},
     "output_type": "execute_result"
    }
   ],
   "source": [
    "users_20_plus[\"song id\"].unique()"
   ]
  },
  {
   "cell_type": "code",
   "execution_count": 36,
   "metadata": {},
   "outputs": [],
   "source": [
    "#np.save(\"data/unique_songs_listened_by_users.npy\", users_20_plus[\"song id\"].unique())"
   ]
  },
  {
   "cell_type": "code",
   "execution_count": 66,
   "metadata": {},
   "outputs": [
    {
     "data": {
      "text/plain": [
       "661103"
      ]
     },
     "execution_count": 66,
     "metadata": {},
     "output_type": "execute_result"
    }
   ],
   "source": [
    "len(users_20_plus.user.unique())"
   ]
  },
  {
   "cell_type": "code",
   "execution_count": 34,
   "metadata": {},
   "outputs": [
    {
     "data": {
      "text/plain": [
       "381526"
      ]
     },
     "execution_count": 34,
     "metadata": {},
     "output_type": "execute_result"
    }
   ],
   "source": [
    "len(users_20_plus[\"song id\"].unique())"
   ]
  },
  {
   "cell_type": "code",
   "execution_count": 32,
   "metadata": {},
   "outputs": [
    {
     "data": {
      "text/plain": [
       "6611030"
      ]
     },
     "execution_count": 32,
     "metadata": {},
     "output_type": "execute_result"
    }
   ],
   "source": [
    "len(users_20_plus_train)"
   ]
  },
  {
   "cell_type": "code",
   "execution_count": 35,
   "metadata": {},
   "outputs": [
    {
     "data": {
      "text/plain": [
       "43407183"
      ]
     },
     "execution_count": 35,
     "metadata": {},
     "output_type": "execute_result"
    }
   ],
   "source": [
    "len(users_20_plus)"
   ]
  },
  {
   "cell_type": "code",
   "execution_count": 39,
   "metadata": {},
   "outputs": [
    {
     "data": {
      "text/plain": [
       "8160.550428"
      ]
     },
     "execution_count": 39,
     "metadata": {},
     "output_type": "execute_result"
    }
   ],
   "source": [
    "sys.getsizeof(users_20_plus)*1e-6"
   ]
  },
  {
   "cell_type": "code",
   "execution_count": 42,
   "metadata": {},
   "outputs": [
    {
     "data": {
      "text/plain": [
       "5.28892"
      ]
     },
     "execution_count": 42,
     "metadata": {},
     "output_type": "execute_result"
    }
   ],
   "source": [
    "sys.getsizeof(users_20_plus[\"user\"].unique())*1e-6"
   ]
  },
  {
   "cell_type": "code",
   "execution_count": 43,
   "metadata": {},
   "outputs": [
    {
     "data": {
      "text/plain": [
       "4557.754239"
      ]
     },
     "execution_count": 43,
     "metadata": {},
     "output_type": "execute_result"
    }
   ],
   "source": [
    "sys.getsizeof(users_20_plus[\"user\"])*1e-6"
   ]
  },
  {
   "cell_type": "code",
   "execution_count": 67,
   "metadata": {},
   "outputs": [
    {
     "data": {
      "text/plain": [
       "28"
      ]
     },
     "execution_count": 67,
     "metadata": {},
     "output_type": "execute_result"
    }
   ],
   "source": [
    "sys.getsizeof(6611030)"
   ]
  },
  {
   "cell_type": "code",
   "execution_count": 68,
   "metadata": {},
   "outputs": [
    {
     "data": {
      "text/plain": [
       "89"
      ]
     },
     "execution_count": 68,
     "metadata": {},
     "output_type": "execute_result"
    }
   ],
   "source": [
    "sys.getsizeof(\"00004fb90a86beb8bed1e9e328f5d9b6ee7dc03e\")"
   ]
  },
  {
   "cell_type": "markdown",
   "metadata": {},
   "source": [
    "## prokázalo se že se vyplatí zakódovat a zmenšit"
   ]
  },
  {
   "cell_type": "code",
   "execution_count": 76,
   "metadata": {},
   "outputs": [],
   "source": [
    "le = preprocessing.LabelEncoder()\n"
   ]
  },
  {
   "cell_type": "code",
   "execution_count": 77,
   "metadata": {},
   "outputs": [],
   "source": [
    "tmp = le.fit_transform(users_20_plus[\"user\"])"
   ]
  },
  {
   "cell_type": "code",
   "execution_count": 85,
   "metadata": {},
   "outputs": [],
   "source": [
    "#np.save(\"data/label_encoder_users_classes_.npy\",le.classes_)"
   ]
  },
  {
   "cell_type": "code",
   "execution_count": 86,
   "metadata": {},
   "outputs": [],
   "source": [
    "users_20_plus[\"user\"]=tmp"
   ]
  },
  {
   "cell_type": "code",
   "execution_count": 87,
   "metadata": {},
   "outputs": [
    {
     "data": {
      "text/plain": [
       "694.514952"
      ]
     },
     "execution_count": 87,
     "metadata": {},
     "output_type": "execute_result"
    }
   ],
   "source": [
    "sys.getsizeof(users_20_plus[\"user\"])*1e-6"
   ]
  },
  {
   "cell_type": "code",
   "execution_count": 88,
   "metadata": {},
   "outputs": [],
   "source": [
    "les = preprocessing.LabelEncoder()"
   ]
  },
  {
   "cell_type": "code",
   "execution_count": 89,
   "metadata": {},
   "outputs": [],
   "source": [
    "tmps = les.fit_transform(users_20_plus[\"song id\"])"
   ]
  },
  {
   "cell_type": "code",
   "execution_count": 90,
   "metadata": {},
   "outputs": [],
   "source": [
    "#np.save(\"data/label_encoder_songs_classes_.npy\",les.classes_)"
   ]
  },
  {
   "cell_type": "code",
   "execution_count": 91,
   "metadata": {},
   "outputs": [
    {
     "data": {
      "text/plain": [
       "3602.7962129999996"
      ]
     },
     "execution_count": 91,
     "metadata": {},
     "output_type": "execute_result"
    }
   ],
   "source": [
    "sys.getsizeof(users_20_plus[\"song id\"])*1e-6"
   ]
  },
  {
   "cell_type": "code",
   "execution_count": 92,
   "metadata": {},
   "outputs": [
    {
     "data": {
      "text/plain": [
       "347.25756"
      ]
     },
     "execution_count": 92,
     "metadata": {},
     "output_type": "execute_result"
    }
   ],
   "source": [
    "sys.getsizeof(tmps)*1e-6"
   ]
  },
  {
   "cell_type": "code",
   "execution_count": 93,
   "metadata": {},
   "outputs": [],
   "source": [
    "users_20_plus[\"song id\"]=tmps"
   ]
  },
  {
   "cell_type": "code",
   "execution_count": 94,
   "metadata": {},
   "outputs": [
    {
     "data": {
      "text/plain": [
       "1389.02988"
      ]
     },
     "execution_count": 94,
     "metadata": {},
     "output_type": "execute_result"
    }
   ],
   "source": [
    "sys.getsizeof(users_20_plus)*1e-6"
   ]
  },
  {
   "cell_type": "code",
   "execution_count": 98,
   "metadata": {},
   "outputs": [
    {
     "data": {
      "text/plain": [
       "0.000112"
      ]
     },
     "execution_count": 98,
     "metadata": {},
     "output_type": "execute_result"
    }
   ],
   "source": [
    "sys.getsizeof(users_20_plus.values)*1e-6"
   ]
  },
  {
   "cell_type": "code",
   "execution_count": 100,
   "metadata": {},
   "outputs": [],
   "source": [
    "np.save(\"data/users_20_plus_[user, song id, count].npy\",users_20_plus.values)"
   ]
  },
  {
   "cell_type": "code",
   "execution_count": 101,
   "metadata": {},
   "outputs": [
    {
     "data": {
      "text/plain": [
       "array([[     0, 119379,      1],\n",
       "       [     0, 341745,      1],\n",
       "       [     0, 334424,      1],\n",
       "       ...,\n",
       "       [661102, 292930,      1],\n",
       "       [661102, 285171,     10],\n",
       "       [661102, 258246,     35]])"
      ]
     },
     "execution_count": 101,
     "metadata": {},
     "output_type": "execute_result"
    }
   ],
   "source": [
    "users_20_plus.values"
   ]
  },
  {
   "cell_type": "code",
   "execution_count": 102,
   "metadata": {},
   "outputs": [],
   "source": [
    "temp = np.load(\"data/users_20_plus_[user, song id, count].npy\")"
   ]
  },
  {
   "cell_type": "code",
   "execution_count": 103,
   "metadata": {},
   "outputs": [
    {
     "data": {
      "text/plain": [
       "array([[     0, 119379,      1],\n",
       "       [     0, 341745,      1],\n",
       "       [     0, 334424,      1],\n",
       "       ...,\n",
       "       [661102, 292930,      1],\n",
       "       [661102, 285171,     10],\n",
       "       [661102, 258246,     35]])"
      ]
     },
     "execution_count": 103,
     "metadata": {},
     "output_type": "execute_result"
    }
   ],
   "source": [
    "temp"
   ]
  }
 ],
 "metadata": {
  "kernelspec": {
   "display_name": "Python 3",
   "language": "python",
   "name": "python3"
  },
  "language_info": {
   "codemirror_mode": {
    "name": "ipython",
    "version": 3
   },
   "file_extension": ".py",
   "mimetype": "text/x-python",
   "name": "python",
   "nbconvert_exporter": "python",
   "pygments_lexer": "ipython3",
   "version": "3.7.1"
  }
 },
 "nbformat": 4,
 "nbformat_minor": 2
}

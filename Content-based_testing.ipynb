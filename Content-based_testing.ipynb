{
 "cells": [
  {
   "cell_type": "code",
   "execution_count": 1,
   "metadata": {},
   "outputs": [],
   "source": [
    "import numpy as np\n",
    "import pandas as pd\n",
    "import joblib\n",
    "import matplotlib.pyplot as plt\n",
    "from scipy import sparse\n",
    "import sys\n",
    "from time import time\n",
    "from IPython.core.debugger import set_trace\n",
    "\n",
    "from sklearn.neighbors import NearestNeighbors\n",
    "from sklearn.preprocessing import LabelEncoder"
   ]
  },
  {
   "cell_type": "code",
   "execution_count": 2,
   "metadata": {},
   "outputs": [],
   "source": [
    "from NNS import Recommender, user_based_model, content_based_model"
   ]
  },
  {
   "cell_type": "code",
   "execution_count": 3,
   "metadata": {},
   "outputs": [],
   "source": [
    "clf = Recommender(\"content_based_NN\", verbose=True)"
   ]
  },
  {
   "cell_type": "code",
   "execution_count": 4,
   "metadata": {},
   "outputs": [],
   "source": [
    "clf.load_encoders(path_songs=\"data/content_based_label_encoder_songs_classes_.npy\", path_users=None)"
   ]
  },
  {
   "cell_type": "code",
   "execution_count": 5,
   "metadata": {},
   "outputs": [],
   "source": [
    "X = sparse.load_npz(\"data/content_based_data_matrix.npz\")"
   ]
  },
  {
   "cell_type": "code",
   "execution_count": 6,
   "metadata": {},
   "outputs": [],
   "source": [
    "clf.fit(X=X)\n",
    "#clf.save_model(model_name=\"Content_based_KNN_model\")"
   ]
  },
  {
   "cell_type": "code",
   "execution_count": 7,
   "metadata": {},
   "outputs": [
    {
     "name": "stdout",
     "output_type": "stream",
     "text": [
      "['SOWGCMD12AB01865EE' 'SOFONIE12A6D4F7BEC' 'SOAEMOK12A8C13DC66'\n",
      " 'SOCUUOK12A8AE475FD' 'SOOMVUQ12AB018494D' 'SOLDCOY12AB017CA88'\n",
      " 'SOJYFRN12A58A77D1E' 'SOFSCUQ12AB0181218' 'SOGMREH12A8C13992C'\n",
      " 'SOCFBNF12AB018849A']\n"
     ]
    },
    {
     "data": {
      "text/plain": [
       "array([331122,  88202,   2706,  44435, 222950, 173402, 155570,  90368,\n",
       "       102750,  35020], dtype=int64)"
      ]
     },
     "execution_count": 7,
     "metadata": {},
     "output_type": "execute_result"
    }
   ],
   "source": [
    "_10_random_songs = np.random.choice(clf.song_label_encoder.classes_,10)\n",
    "print(_10_random_songs)\n",
    "song_list = clf.song_label_encoder.transform(np.array(_10_random_songs)).squeeze()\n",
    "song_list"
   ]
  },
  {
   "cell_type": "code",
   "execution_count": 8,
   "metadata": {},
   "outputs": [
    {
     "name": "stdout",
     "output_type": "stream",
     "text": [
      "  recommended_songs_id  cosine distance\n",
      "0   SOKVFRU12A58291508         0.273240\n",
      "1   SOOCYNV12AB017B4B5         0.285545\n",
      "2   SOFHIOQ12AB017D0D3         0.282800\n",
      "3   SOEIZTI12AB0187D71         0.286567\n",
      "4   SOKYXFA12A8C13C52F         0.283063\n",
      "5   SONZIHI12AB018D777         0.285087\n",
      "6   SOMQKSF12A8C13FA85         0.277438\n",
      "7   SOQTAFZ12AB01857AC         0.255571\n",
      "8   SODBCYD12AB0188CFF         0.281317\n",
      "9   SOMECOI12A6D4FA233         0.279543\n"
     ]
    },
    {
     "data": {
      "text/plain": [
       "(array(['SOKVFRU12A58291508', 'SOOCYNV12AB017B4B5', 'SOFHIOQ12AB017D0D3',\n",
       "        'SOEIZTI12AB0187D71', 'SOKYXFA12A8C13C52F', 'SONZIHI12AB018D777',\n",
       "        'SOMQKSF12A8C13FA85', 'SOQTAFZ12AB01857AC', 'SODBCYD12AB0188CFF',\n",
       "        'SOMECOI12A6D4FA233'], dtype='<U18'),\n",
       " array([0.27323973, 0.28554535, 0.2827996 , 0.28656662, 0.28306293,\n",
       "        0.28508717, 0.2774377 , 0.25557053, 0.28131688, 0.27954292],\n",
       "       dtype=float32))"
      ]
     },
     "execution_count": 8,
     "metadata": {},
     "output_type": "execute_result"
    }
   ],
   "source": [
    "clf.recommend(song_list= _10_random_songs, full_name=True, return_song_id=True)\n"
   ]
  },
  {
   "cell_type": "code",
   "execution_count": 9,
   "metadata": {},
   "outputs": [
    {
     "name": "stdout",
     "output_type": "stream",
     "text": [
      "   recommended_songs_code  cosine distance\n",
      "0                  168824         0.273240\n",
      "1                  217402         0.285545\n",
      "2                   83938         0.282800\n",
      "3                   69017         0.286567\n",
      "4                  170955         0.283063\n",
      "5                  215351         0.285087\n",
      "6                  195670         0.277438\n",
      "7                  254668         0.255571\n",
      "8                   48332         0.281317\n",
      "9                  188816         0.279543\n"
     ]
    },
    {
     "data": {
      "text/plain": [
       "(array([168824, 217402,  83938,  69017, 170955, 215351, 195670, 254668,\n",
       "         48332, 188816], dtype=int64),\n",
       " array([0.27323973, 0.28554535, 0.2827996 , 0.28656662, 0.28306293,\n",
       "        0.28508717, 0.2774377 , 0.25557053, 0.28131688, 0.27954292],\n",
       "       dtype=float32))"
      ]
     },
     "execution_count": 9,
     "metadata": {},
     "output_type": "execute_result"
    }
   ],
   "source": [
    "clf.recommend(song_list=_10_random_songs, full_name=True, return_song_id=False)"
   ]
  },
  {
   "cell_type": "code",
   "execution_count": 10,
   "metadata": {},
   "outputs": [
    {
     "name": "stdout",
     "output_type": "stream",
     "text": [
      "  recommended_songs_id  cosine distance\n",
      "0   SOKVFRU12A58291508         0.273240\n",
      "1   SOOCYNV12AB017B4B5         0.285545\n",
      "2   SOFHIOQ12AB017D0D3         0.282800\n",
      "3   SOEIZTI12AB0187D71         0.286567\n",
      "4   SOKYXFA12A8C13C52F         0.283063\n",
      "5   SONZIHI12AB018D777         0.285087\n",
      "6   SOMQKSF12A8C13FA85         0.277438\n",
      "7   SOQTAFZ12AB01857AC         0.255571\n",
      "8   SODBCYD12AB0188CFF         0.281317\n",
      "9   SOMECOI12A6D4FA233         0.279543\n"
     ]
    },
    {
     "data": {
      "text/plain": [
       "(array(['SOKVFRU12A58291508', 'SOOCYNV12AB017B4B5', 'SOFHIOQ12AB017D0D3',\n",
       "        'SOEIZTI12AB0187D71', 'SOKYXFA12A8C13C52F', 'SONZIHI12AB018D777',\n",
       "        'SOMQKSF12A8C13FA85', 'SOQTAFZ12AB01857AC', 'SODBCYD12AB0188CFF',\n",
       "        'SOMECOI12A6D4FA233'], dtype='<U18'),\n",
       " array([0.27323973, 0.28554535, 0.2827996 , 0.28656662, 0.28306293,\n",
       "        0.28508717, 0.2774377 , 0.25557053, 0.28131688, 0.27954292],\n",
       "       dtype=float32))"
      ]
     },
     "execution_count": 10,
     "metadata": {},
     "output_type": "execute_result"
    }
   ],
   "source": [
    "clf.recommend(song_list= song_list, full_name=False, return_song_id=True)"
   ]
  },
  {
   "cell_type": "code",
   "execution_count": 14,
   "metadata": {},
   "outputs": [
    {
     "data": {
      "text/plain": [
       "array(['SOGKVMW12A8C137F06', 'SOGKVMW12A8C137F06', 'SOGKVMW12A8C137F06',\n",
       "       'SOGKVMW12A8C137F06', 'SOGKVMW12A8C137F06', 'SOGKVMW12A8C137F06',\n",
       "       'SOGKVMW12A8C137F06', 'SOGKVMW12A8C137F06', 'SOGKVMW12A8C137F06',\n",
       "       'SOGKVMW12A8C137F06'], dtype='<U18')"
      ]
     },
     "execution_count": 14,
     "metadata": {},
     "output_type": "execute_result"
    }
   ],
   "source": [
    "_1_song = np.random.choice(clf.song_label_encoder.classes_,1)\n",
    "_1_same_song = np.array([_1_song,_1_song,_1_song,_1_song,_1_song,_1_song,_1_song,_1_song,_1_song,_1_song]).ravel()\n",
    "_1_same_song"
   ]
  },
  {
   "cell_type": "code",
   "execution_count": 15,
   "metadata": {},
   "outputs": [
    {
     "name": "stdout",
     "output_type": "stream",
     "text": [
      "  recommended_songs_id  cosine distance\n",
      "0   SOBXKTH12A58A788E2         0.287749\n",
      "1   SOEJCDX12AB017C0C0         0.287724\n",
      "2   SOBIMMV12AB01813EC         0.287687\n",
      "3   SOZTCMM12A58A7A66D         0.287657\n",
      "4   SOOUTYI12A6D4F8C3B         0.287612\n",
      "5   SOMDBTA12AB018A788         0.287601\n",
      "6   SOAXGPZ12AB0189288         0.287595\n",
      "7   SOGCLDV12AB01816E0         0.287448\n",
      "8   SOMXFTU12A6D4F9897         0.287392\n",
      "9   SONOWNO12AC468E70B         0.287345\n"
     ]
    },
    {
     "data": {
      "text/plain": [
       "(array(['SOBXKTH12A58A788E2', 'SOEJCDX12AB017C0C0', 'SOBIMMV12AB01813EC',\n",
       "        'SOZTCMM12A58A7A66D', 'SOOUTYI12A6D4F8C3B', 'SOMDBTA12AB018A788',\n",
       "        'SOAXGPZ12AB0189288', 'SOGCLDV12AB01816E0', 'SOMXFTU12A6D4F9897',\n",
       "        'SONOWNO12AC468E70B'], dtype='<U18'),\n",
       " array([0.28774863, 0.2877239 , 0.28768718, 0.28765678, 0.28761208,\n",
       "        0.28760064, 0.2875949 , 0.28744793, 0.28739196, 0.2873453 ],\n",
       "       dtype=float32))"
      ]
     },
     "execution_count": 15,
     "metadata": {},
     "output_type": "execute_result"
    }
   ],
   "source": [
    "clf.recommend(song_list=_1_same_song, full_name=True, return_song_id=True)"
   ]
  },
  {
   "cell_type": "markdown",
   "metadata": {},
   "source": [
    "# simplified function"
   ]
  },
  {
   "cell_type": "code",
   "execution_count": 11,
   "metadata": {},
   "outputs": [],
   "source": [
    "model1 = content_based_model(verbose=True)"
   ]
  },
  {
   "cell_type": "code",
   "execution_count": 12,
   "metadata": {},
   "outputs": [
    {
     "name": "stdout",
     "output_type": "stream",
     "text": [
      "  recommended_songs_id  cosine distance\n",
      "0   SOKVFRU12A58291508         0.273240\n",
      "1   SOOCYNV12AB017B4B5         0.285545\n",
      "2   SOFHIOQ12AB017D0D3         0.282800\n",
      "3   SOEIZTI12AB0187D71         0.286567\n",
      "4   SOKYXFA12A8C13C52F         0.283063\n",
      "5   SONZIHI12AB018D777         0.285087\n",
      "6   SOMQKSF12A8C13FA85         0.277438\n",
      "7   SOQTAFZ12AB01857AC         0.255571\n",
      "8   SODBCYD12AB0188CFF         0.281317\n",
      "9   SOMECOI12A6D4FA233         0.279543\n"
     ]
    },
    {
     "data": {
      "text/plain": [
       "(array(['SOKVFRU12A58291508', 'SOOCYNV12AB017B4B5', 'SOFHIOQ12AB017D0D3',\n",
       "        'SOEIZTI12AB0187D71', 'SOKYXFA12A8C13C52F', 'SONZIHI12AB018D777',\n",
       "        'SOMQKSF12A8C13FA85', 'SOQTAFZ12AB01857AC', 'SODBCYD12AB0188CFF',\n",
       "        'SOMECOI12A6D4FA233'], dtype='<U18'),\n",
       " array([0.27323973, 0.28554535, 0.2827996 , 0.28656662, 0.28306293,\n",
       "        0.28508717, 0.2774377 , 0.25557053, 0.28131688, 0.27954292],\n",
       "       dtype=float32))"
      ]
     },
     "execution_count": 12,
     "metadata": {},
     "output_type": "execute_result"
    }
   ],
   "source": [
    "model1.recommend(song_list= _10_random_songs, full_name=True, return_song_id=True)"
   ]
  },
  {
   "cell_type": "code",
   "execution_count": 13,
   "metadata": {},
   "outputs": [
    {
     "name": "stdout",
     "output_type": "stream",
     "text": [
      "  recommended_songs_id  cosine distance\n",
      "0   SOKVFRU12A58291508         0.273240\n",
      "1   SOOCYNV12AB017B4B5         0.285545\n",
      "2   SOFHIOQ12AB017D0D3         0.282800\n",
      "3   SOEIZTI12AB0187D71         0.286567\n",
      "4   SOKYXFA12A8C13C52F         0.283063\n",
      "5   SONZIHI12AB018D777         0.285087\n",
      "6   SOMQKSF12A8C13FA85         0.277438\n",
      "7   SOQTAFZ12AB01857AC         0.255571\n",
      "8   SODBCYD12AB0188CFF         0.281317\n",
      "9   SOMECOI12A6D4FA233         0.279543\n"
     ]
    },
    {
     "data": {
      "text/plain": [
       "(array(['SOKVFRU12A58291508', 'SOOCYNV12AB017B4B5', 'SOFHIOQ12AB017D0D3',\n",
       "        'SOEIZTI12AB0187D71', 'SOKYXFA12A8C13C52F', 'SONZIHI12AB018D777',\n",
       "        'SOMQKSF12A8C13FA85', 'SOQTAFZ12AB01857AC', 'SODBCYD12AB0188CFF',\n",
       "        'SOMECOI12A6D4FA233'], dtype='<U18'),\n",
       " array([0.27323973, 0.28554535, 0.2827996 , 0.28656662, 0.28306293,\n",
       "        0.28508717, 0.2774377 , 0.25557053, 0.28131688, 0.27954292],\n",
       "       dtype=float32))"
      ]
     },
     "execution_count": 13,
     "metadata": {},
     "output_type": "execute_result"
    }
   ],
   "source": [
    "model1.recommend(song_list= song_list, full_name=False, return_song_id=True)"
   ]
  },
  {
   "cell_type": "code",
   "execution_count": 16,
   "metadata": {},
   "outputs": [
    {
     "name": "stdout",
     "output_type": "stream",
     "text": [
      "  recommended_songs_id  cosine distance\n",
      "0   SOBXKTH12A58A788E2         0.287749\n",
      "1   SOEJCDX12AB017C0C0         0.287724\n",
      "2   SOBIMMV12AB01813EC         0.287687\n",
      "3   SOZTCMM12A58A7A66D         0.287657\n",
      "4   SOOUTYI12A6D4F8C3B         0.287612\n",
      "5   SOMDBTA12AB018A788         0.287601\n",
      "6   SOAXGPZ12AB0189288         0.287595\n",
      "7   SOGCLDV12AB01816E0         0.287448\n",
      "8   SOMXFTU12A6D4F9897         0.287392\n",
      "9   SONOWNO12AC468E70B         0.287345\n"
     ]
    },
    {
     "data": {
      "text/plain": [
       "(array(['SOBXKTH12A58A788E2', 'SOEJCDX12AB017C0C0', 'SOBIMMV12AB01813EC',\n",
       "        'SOZTCMM12A58A7A66D', 'SOOUTYI12A6D4F8C3B', 'SOMDBTA12AB018A788',\n",
       "        'SOAXGPZ12AB0189288', 'SOGCLDV12AB01816E0', 'SOMXFTU12A6D4F9897',\n",
       "        'SONOWNO12AC468E70B'], dtype='<U18'),\n",
       " array([0.28774863, 0.2877239 , 0.28768718, 0.28765678, 0.28761208,\n",
       "        0.28760064, 0.2875949 , 0.28744793, 0.28739196, 0.2873453 ],\n",
       "       dtype=float32))"
      ]
     },
     "execution_count": 16,
     "metadata": {},
     "output_type": "execute_result"
    }
   ],
   "source": [
    "model1.recommend(song_list=_1_same_song, full_name=True, return_song_id=True)"
   ]
  },
  {
   "cell_type": "code",
   "execution_count": null,
   "metadata": {},
   "outputs": [],
   "source": []
  }
 ],
 "metadata": {
  "kernelspec": {
   "display_name": "Pytorch",
   "language": "python",
   "name": "pytorch"
  },
  "language_info": {
   "codemirror_mode": {
    "name": "ipython",
    "version": 3
   },
   "file_extension": ".py",
   "mimetype": "text/x-python",
   "name": "python",
   "nbconvert_exporter": "python",
   "pygments_lexer": "ipython3",
   "version": "3.6.9"
  }
 },
 "nbformat": 4,
 "nbformat_minor": 2
}

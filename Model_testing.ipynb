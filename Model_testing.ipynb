{
 "cells": [
  {
   "cell_type": "code",
   "execution_count": 1,
   "metadata": {},
   "outputs": [],
   "source": [
    "import numpy as np\n",
    "import pandas as pd\n",
    "import joblib\n",
    "import matplotlib.pyplot as plt\n",
    "from scipy import sparse\n",
    "import sys\n",
    "from time import time\n",
    "from IPython.core.debugger import set_trace\n",
    "\n",
    "from sklearn.neighbors import NearestNeighbors\n",
    "from sklearn.preprocessing import LabelEncoder"
   ]
  },
  {
   "cell_type": "code",
   "execution_count": 2,
   "metadata": {},
   "outputs": [],
   "source": [
    "from NNS import Recommender, user_based_model"
   ]
  },
  {
   "cell_type": "markdown",
   "metadata": {},
   "source": [
    "# Correct way to load and use model.\n",
    "- There is simplier way to load it in next section (below this one)"
   ]
  },
  {
   "cell_type": "code",
   "execution_count": 3,
   "metadata": {},
   "outputs": [],
   "source": [
    "clf = Recommender(\"user_based_NN\", verbose=True)"
   ]
  },
  {
   "cell_type": "code",
   "execution_count": 4,
   "metadata": {},
   "outputs": [],
   "source": [
    "clf.load_encoders(path_songs=\"data/label_encoder_songs_classes_.npy\", path_users=\"data/label_encoder_users_classes_.npy\")"
   ]
  },
  {
   "cell_type": "code",
   "execution_count": 5,
   "metadata": {},
   "outputs": [],
   "source": [
    "X = sparse.load_npz(\"data/song-user_matrix_with_rating.npz\")"
   ]
  },
  {
   "cell_type": "code",
   "execution_count": 6,
   "metadata": {},
   "outputs": [],
   "source": [
    "clf.fit(X=X)\n",
    "clf.save_model(model_name=\"Item-User_KNN_model\")"
   ]
  },
  {
   "cell_type": "code",
   "execution_count": 7,
   "metadata": {},
   "outputs": [
    {
     "name": "stdout",
     "output_type": "stream",
     "text": [
      "['SOWMXCV12A58A7A0BA' 'SOMECRM12A8C1440F3' 'SORKIXS12AF72A868A'\n",
      " 'SOKNEVA12A8C13ACAF' 'SOGHWBG12A6D4F9BBA' 'SORSSPR12A8C131E7B'\n",
      " 'SOTMSHF12AB0184E53' 'SOEYZPS12A8C134B76' 'SORBBMC12A81C2132C'\n",
      " 'SOZUWUI12AB017F0FA']\n"
     ]
    },
    {
     "data": {
      "text/plain": [
       "array([141036,  78974, 110808,  68587,  41606, 112727, 123305,  32873,\n",
       "       108744, 160044])"
      ]
     },
     "execution_count": 7,
     "metadata": {},
     "output_type": "execute_result"
    }
   ],
   "source": [
    "_10_random_songs = np.random.choice(clf.song_label_encoder.classes_,10)\n",
    "print(_10_random_songs)\n",
    "song_list = clf.song_label_encoder.transform(np.array(_10_random_songs)).squeeze()\n",
    "song_list"
   ]
  },
  {
   "cell_type": "code",
   "execution_count": 8,
   "metadata": {},
   "outputs": [
    {
     "name": "stdout",
     "output_type": "stream",
     "text": [
      "  recommended_songs_id  cosine distance\n",
      "0   SOJLGOJ12AB0184ECC         0.899728\n",
      "1   SOXIMAE12AB0185F48         0.907364\n",
      "2   SOUCWNP12AF72A21ED         0.700951\n",
      "3   SOCZBCY12AB0185EE1         0.859280\n",
      "4   SOIGPLE12A6D4F9BC1         0.872743\n",
      "5   SOGSFMU12A6D4F69AA         0.824318\n",
      "6   SOFGSWJ12AB018AD28         0.826084\n",
      "7   SOMHTFK12A6D4FA0C0         0.744828\n",
      "8   SOEPJRT12A8C139672         0.843167\n",
      "9   SOXZRHY12A8AE492FF         0.935288\n"
     ]
    },
    {
     "data": {
      "text/plain": [
       "(array(['SOJLGOJ12AB0184ECC', 'SOXIMAE12AB0185F48', 'SOUCWNP12AF72A21ED',\n",
       "        'SOCZBCY12AB0185EE1', 'SOIGPLE12A6D4F9BC1', 'SOGSFMU12A6D4F69AA',\n",
       "        'SOFGSWJ12AB018AD28', 'SOMHTFK12A6D4FA0C0', 'SOEPJRT12A8C139672',\n",
       "        'SOXZRHY12A8AE492FF'], dtype=object),\n",
       " array([0.89972778, 0.90736421, 0.70095122, 0.85928049, 0.87274305,\n",
       "        0.82431791, 0.8260836 , 0.74482783, 0.84316692, 0.9352883 ]))"
      ]
     },
     "execution_count": 8,
     "metadata": {},
     "output_type": "execute_result"
    }
   ],
   "source": [
    "clf.recommend(song_list= _10_random_songs, full_name=True, return_song_id=True)\n"
   ]
  },
  {
   "cell_type": "code",
   "execution_count": 15,
   "metadata": {},
   "outputs": [
    {
     "name": "stdout",
     "output_type": "stream",
     "text": [
      "   recommended_songs_code  cosine distance\n",
      "0                   61639         0.899728\n",
      "1                  145771         0.907364\n",
      "2                  127000         0.700951\n",
      "3                   19552         0.859280\n",
      "4                   54217         0.872743\n",
      "5                   44216         0.824318\n",
      "6                   34780         0.826084\n",
      "7                   79826         0.744828\n",
      "8                   30395         0.843167\n",
      "9                  149639         0.935288\n"
     ]
    },
    {
     "data": {
      "text/plain": [
       "(array([ 61639, 145771, 127000,  19552,  54217,  44216,  34780,  79826,\n",
       "         30395, 149639]),\n",
       " array([0.89972778, 0.90736421, 0.70095122, 0.85928049, 0.87274305,\n",
       "        0.82431791, 0.8260836 , 0.74482783, 0.84316692, 0.9352883 ]))"
      ]
     },
     "execution_count": 15,
     "metadata": {},
     "output_type": "execute_result"
    }
   ],
   "source": [
    "clf.recommend(song_list=_10_random_songs, full_name=True, return_song_id=False)"
   ]
  },
  {
   "cell_type": "code",
   "execution_count": 16,
   "metadata": {},
   "outputs": [
    {
     "name": "stdout",
     "output_type": "stream",
     "text": [
      "  recommended_songs_id  cosine distance\n",
      "0   SOJLGOJ12AB0184ECC         0.899728\n",
      "1   SOXIMAE12AB0185F48         0.907364\n",
      "2   SOUCWNP12AF72A21ED         0.700951\n",
      "3   SOCZBCY12AB0185EE1         0.859280\n",
      "4   SOIGPLE12A6D4F9BC1         0.872743\n",
      "5   SOGSFMU12A6D4F69AA         0.824318\n",
      "6   SOFGSWJ12AB018AD28         0.826084\n",
      "7   SOMHTFK12A6D4FA0C0         0.744828\n",
      "8   SOEPJRT12A8C139672         0.843167\n",
      "9   SOXZRHY12A8AE492FF         0.935288\n"
     ]
    },
    {
     "data": {
      "text/plain": [
       "(array(['SOJLGOJ12AB0184ECC', 'SOXIMAE12AB0185F48', 'SOUCWNP12AF72A21ED',\n",
       "        'SOCZBCY12AB0185EE1', 'SOIGPLE12A6D4F9BC1', 'SOGSFMU12A6D4F69AA',\n",
       "        'SOFGSWJ12AB018AD28', 'SOMHTFK12A6D4FA0C0', 'SOEPJRT12A8C139672',\n",
       "        'SOXZRHY12A8AE492FF'], dtype=object),\n",
       " array([0.89972778, 0.90736421, 0.70095122, 0.85928049, 0.87274305,\n",
       "        0.82431791, 0.8260836 , 0.74482783, 0.84316692, 0.9352883 ]))"
      ]
     },
     "execution_count": 16,
     "metadata": {},
     "output_type": "execute_result"
    }
   ],
   "source": [
    "clf.recommend(song_list= song_list, full_name=False, return_song_id=True)"
   ]
  },
  {
   "cell_type": "code",
   "execution_count": 17,
   "metadata": {},
   "outputs": [
    {
     "name": "stdout",
     "output_type": "stream",
     "text": [
      "   recommended_songs_code  cosine distance\n",
      "0                   61639         0.899728\n",
      "1                  145771         0.907364\n",
      "2                  127000         0.700951\n",
      "3                   19552         0.859280\n",
      "4                   54217         0.872743\n",
      "5                   44216         0.824318\n",
      "6                   34780         0.826084\n",
      "7                   79826         0.744828\n",
      "8                   30395         0.843167\n",
      "9                  149639         0.935288\n"
     ]
    },
    {
     "data": {
      "text/plain": [
       "(array([ 61639, 145771, 127000,  19552,  54217,  44216,  34780,  79826,\n",
       "         30395, 149639]),\n",
       " array([0.89972778, 0.90736421, 0.70095122, 0.85928049, 0.87274305,\n",
       "        0.82431791, 0.8260836 , 0.74482783, 0.84316692, 0.9352883 ]))"
      ]
     },
     "execution_count": 17,
     "metadata": {},
     "output_type": "execute_result"
    }
   ],
   "source": [
    "clf.recommend(song_list= song_list, full_name=False, return_song_id=False)"
   ]
  },
  {
   "cell_type": "markdown",
   "metadata": {},
   "source": [
    "## same input\n"
   ]
  },
  {
   "cell_type": "code",
   "execution_count": 18,
   "metadata": {},
   "outputs": [
    {
     "data": {
      "text/plain": [
       "array(['SOSUVOQ12A8C138276', 'SOSUVOQ12A8C138276', 'SOSUVOQ12A8C138276',\n",
       "       'SOSUVOQ12A8C138276', 'SOSUVOQ12A8C138276', 'SOSUVOQ12A8C138276',\n",
       "       'SOSUVOQ12A8C138276', 'SOSUVOQ12A8C138276', 'SOSUVOQ12A8C138276',\n",
       "       'SOSUVOQ12A8C138276'], dtype=object)"
      ]
     },
     "execution_count": 18,
     "metadata": {},
     "output_type": "execute_result"
    }
   ],
   "source": [
    "_1_song = np.random.choice(clf.song_label_encoder.classes_,1)\n",
    "_1_same_song = np.array([_1_song,_1_song,_1_song,_1_song,_1_song,_1_song,_1_song,_1_song,_1_song,_1_song]).ravel()\n",
    "_1_same_song"
   ]
  },
  {
   "cell_type": "code",
   "execution_count": 19,
   "metadata": {},
   "outputs": [
    {
     "name": "stdout",
     "output_type": "stream",
     "text": [
      "  recommended_songs_id  cosine distance\n",
      "0   SORXWAQ12A8C13827F         0.809840\n",
      "1   SOMVGSE12A8C138279         0.803795\n",
      "2   SOBPDVC12A3F1ED417         0.800757\n",
      "3   SOVMIYF12AF72A0020         0.800333\n",
      "4   SOEMPLB12A8C139F59         0.795741\n",
      "5   SOWKKZQ12A8C13BD46         0.794399\n",
      "6   SOIBMCL12A8C139F53         0.790343\n",
      "7   SOYLPSW12A8C139F4D         0.785927\n",
      "8   SOMCRES12A8C1383DC         0.776113\n",
      "9   SOTXRPJ12A8C13844A         0.774591\n"
     ]
    },
    {
     "data": {
      "text/plain": [
       "(array(['SORXWAQ12A8C13827F', 'SOMVGSE12A8C138279', 'SOBPDVC12A3F1ED417',\n",
       "        'SOVMIYF12AF72A0020', 'SOEMPLB12A8C139F59', 'SOWKKZQ12A8C13BD46',\n",
       "        'SOIBMCL12A8C139F53', 'SOYLPSW12A8C139F4D', 'SOMCRES12A8C1383DC',\n",
       "        'SOTXRPJ12A8C13844A'], dtype=object),\n",
       " array([0.80984029, 0.80379541, 0.80075693, 0.8003325 , 0.79574072,\n",
       "        0.79439926, 0.79034303, 0.78592655, 0.77611317, 0.77459084]))"
      ]
     },
     "execution_count": 19,
     "metadata": {},
     "output_type": "execute_result"
    }
   ],
   "source": [
    "clf.recommend(song_list=_1_same_song, full_name=True, return_song_id=True)"
   ]
  },
  {
   "cell_type": "markdown",
   "metadata": {},
   "source": [
    "# Simplifed function for loading and setting model"
   ]
  },
  {
   "cell_type": "code",
   "execution_count": 20,
   "metadata": {},
   "outputs": [],
   "source": [
    "model = user_based_model()"
   ]
  },
  {
   "cell_type": "code",
   "execution_count": 21,
   "metadata": {},
   "outputs": [
    {
     "name": "stdout",
     "output_type": "stream",
     "text": [
      "  recommended_songs_id  cosine distance\n",
      "0   SOJLGOJ12AB0184ECC         0.899728\n",
      "1   SOXIMAE12AB0185F48         0.907364\n",
      "2   SOUCWNP12AF72A21ED         0.700951\n",
      "3   SOCZBCY12AB0185EE1         0.859280\n",
      "4   SOIGPLE12A6D4F9BC1         0.872743\n",
      "5   SOGSFMU12A6D4F69AA         0.824318\n",
      "6   SOFGSWJ12AB018AD28         0.826084\n",
      "7   SOMHTFK12A6D4FA0C0         0.744828\n",
      "8   SOEPJRT12A8C139672         0.843167\n",
      "9   SOXZRHY12A8AE492FF         0.935288\n"
     ]
    },
    {
     "data": {
      "text/plain": [
       "(array(['SOJLGOJ12AB0184ECC', 'SOXIMAE12AB0185F48', 'SOUCWNP12AF72A21ED',\n",
       "        'SOCZBCY12AB0185EE1', 'SOIGPLE12A6D4F9BC1', 'SOGSFMU12A6D4F69AA',\n",
       "        'SOFGSWJ12AB018AD28', 'SOMHTFK12A6D4FA0C0', 'SOEPJRT12A8C139672',\n",
       "        'SOXZRHY12A8AE492FF'], dtype=object),\n",
       " array([0.89972778, 0.90736421, 0.70095122, 0.85928049, 0.87274305,\n",
       "        0.82431791, 0.8260836 , 0.74482783, 0.84316692, 0.9352883 ]))"
      ]
     },
     "execution_count": 21,
     "metadata": {},
     "output_type": "execute_result"
    }
   ],
   "source": [
    "model.recommend(song_list= _10_random_songs, full_name=True, return_song_id=True)\n"
   ]
  },
  {
   "cell_type": "code",
   "execution_count": 22,
   "metadata": {},
   "outputs": [
    {
     "name": "stdout",
     "output_type": "stream",
     "text": [
      "   recommended_songs_code  cosine distance\n",
      "0                   61639         0.899728\n",
      "1                  145771         0.907364\n",
      "2                  127000         0.700951\n",
      "3                   19552         0.859280\n",
      "4                   54217         0.872743\n",
      "5                   44216         0.824318\n",
      "6                   34780         0.826084\n",
      "7                   79826         0.744828\n",
      "8                   30395         0.843167\n",
      "9                  149639         0.935288\n"
     ]
    },
    {
     "data": {
      "text/plain": [
       "(array([ 61639, 145771, 127000,  19552,  54217,  44216,  34780,  79826,\n",
       "         30395, 149639]),\n",
       " array([0.89972778, 0.90736421, 0.70095122, 0.85928049, 0.87274305,\n",
       "        0.82431791, 0.8260836 , 0.74482783, 0.84316692, 0.9352883 ]))"
      ]
     },
     "execution_count": 22,
     "metadata": {},
     "output_type": "execute_result"
    }
   ],
   "source": [
    "model.recommend(song_list=_10_random_songs, full_name=True, return_song_id=False)"
   ]
  },
  {
   "cell_type": "code",
   "execution_count": 23,
   "metadata": {},
   "outputs": [
    {
     "name": "stdout",
     "output_type": "stream",
     "text": [
      "  recommended_songs_id  cosine distance\n",
      "0   SOJLGOJ12AB0184ECC         0.899728\n",
      "1   SOXIMAE12AB0185F48         0.907364\n",
      "2   SOUCWNP12AF72A21ED         0.700951\n",
      "3   SOCZBCY12AB0185EE1         0.859280\n",
      "4   SOIGPLE12A6D4F9BC1         0.872743\n",
      "5   SOGSFMU12A6D4F69AA         0.824318\n",
      "6   SOFGSWJ12AB018AD28         0.826084\n",
      "7   SOMHTFK12A6D4FA0C0         0.744828\n",
      "8   SOEPJRT12A8C139672         0.843167\n",
      "9   SOXZRHY12A8AE492FF         0.935288\n"
     ]
    },
    {
     "data": {
      "text/plain": [
       "(array(['SOJLGOJ12AB0184ECC', 'SOXIMAE12AB0185F48', 'SOUCWNP12AF72A21ED',\n",
       "        'SOCZBCY12AB0185EE1', 'SOIGPLE12A6D4F9BC1', 'SOGSFMU12A6D4F69AA',\n",
       "        'SOFGSWJ12AB018AD28', 'SOMHTFK12A6D4FA0C0', 'SOEPJRT12A8C139672',\n",
       "        'SOXZRHY12A8AE492FF'], dtype=object),\n",
       " array([0.89972778, 0.90736421, 0.70095122, 0.85928049, 0.87274305,\n",
       "        0.82431791, 0.8260836 , 0.74482783, 0.84316692, 0.9352883 ]))"
      ]
     },
     "execution_count": 23,
     "metadata": {},
     "output_type": "execute_result"
    }
   ],
   "source": [
    "model.recommend(song_list= song_list, full_name=False, return_song_id=True)"
   ]
  },
  {
   "cell_type": "code",
   "execution_count": 24,
   "metadata": {},
   "outputs": [
    {
     "name": "stdout",
     "output_type": "stream",
     "text": [
      "   recommended_songs_code  cosine distance\n",
      "0                   61639         0.899728\n",
      "1                  145771         0.907364\n",
      "2                  127000         0.700951\n",
      "3                   19552         0.859280\n",
      "4                   54217         0.872743\n",
      "5                   44216         0.824318\n",
      "6                   34780         0.826084\n",
      "7                   79826         0.744828\n",
      "8                   30395         0.843167\n",
      "9                  149639         0.935288\n"
     ]
    },
    {
     "data": {
      "text/plain": [
       "(array([ 61639, 145771, 127000,  19552,  54217,  44216,  34780,  79826,\n",
       "         30395, 149639]),\n",
       " array([0.89972778, 0.90736421, 0.70095122, 0.85928049, 0.87274305,\n",
       "        0.82431791, 0.8260836 , 0.74482783, 0.84316692, 0.9352883 ]))"
      ]
     },
     "execution_count": 24,
     "metadata": {},
     "output_type": "execute_result"
    }
   ],
   "source": [
    "model.recommend(song_list= song_list, full_name=False, return_song_id=False)"
   ]
  },
  {
   "cell_type": "markdown",
   "metadata": {},
   "source": [
    "## same input\n"
   ]
  },
  {
   "cell_type": "code",
   "execution_count": 25,
   "metadata": {
    "scrolled": true
   },
   "outputs": [
    {
     "name": "stdout",
     "output_type": "stream",
     "text": [
      "  recommended_songs_id  cosine distance\n",
      "0   SORXWAQ12A8C13827F         0.809840\n",
      "1   SOMVGSE12A8C138279         0.803795\n",
      "2   SOBPDVC12A3F1ED417         0.800757\n",
      "3   SOVMIYF12AF72A0020         0.800333\n",
      "4   SOEMPLB12A8C139F59         0.795741\n",
      "5   SOWKKZQ12A8C13BD46         0.794399\n",
      "6   SOIBMCL12A8C139F53         0.790343\n",
      "7   SOYLPSW12A8C139F4D         0.785927\n",
      "8   SOMCRES12A8C1383DC         0.776113\n",
      "9   SOTXRPJ12A8C13844A         0.774591\n"
     ]
    },
    {
     "data": {
      "text/plain": [
       "(array(['SORXWAQ12A8C13827F', 'SOMVGSE12A8C138279', 'SOBPDVC12A3F1ED417',\n",
       "        'SOVMIYF12AF72A0020', 'SOEMPLB12A8C139F59', 'SOWKKZQ12A8C13BD46',\n",
       "        'SOIBMCL12A8C139F53', 'SOYLPSW12A8C139F4D', 'SOMCRES12A8C1383DC',\n",
       "        'SOTXRPJ12A8C13844A'], dtype=object),\n",
       " array([0.80984029, 0.80379541, 0.80075693, 0.8003325 , 0.79574072,\n",
       "        0.79439926, 0.79034303, 0.78592655, 0.77611317, 0.77459084]))"
      ]
     },
     "execution_count": 25,
     "metadata": {},
     "output_type": "execute_result"
    }
   ],
   "source": [
    "model.recommend(song_list=_1_same_song, full_name=True, return_song_id=True)"
   ]
  },
  {
   "cell_type": "code",
   "execution_count": null,
   "metadata": {},
   "outputs": [],
   "source": []
  }
 ],
 "metadata": {
  "kernelspec": {
   "display_name": "Pytorch",
   "language": "python",
   "name": "pytorch"
  },
  "language_info": {
   "codemirror_mode": {
    "name": "ipython",
    "version": 3
   },
   "file_extension": ".py",
   "mimetype": "text/x-python",
   "name": "python",
   "nbconvert_exporter": "python",
   "pygments_lexer": "ipython3",
   "version": "3.7.4"
  }
 },
 "nbformat": 4,
 "nbformat_minor": 2
}

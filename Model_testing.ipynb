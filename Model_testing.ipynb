{
 "cells": [
  {
   "cell_type": "code",
   "execution_count": 1,
   "metadata": {},
   "outputs": [],
   "source": [
    "import numpy as np\n",
    "import pandas as pd\n",
    "import joblib\n",
    "import matplotlib.pyplot as plt\n",
    "from scipy import sparse\n",
    "import sys\n",
    "from time import time\n",
    "from IPython.core.debugger import set_trace\n",
    "\n",
    "from sklearn.neighbors import NearestNeighbors\n",
    "from sklearn.preprocessing import LabelEncoder"
   ]
  },
  {
   "cell_type": "code",
   "execution_count": 2,
   "metadata": {},
   "outputs": [],
   "source": [
    "from NNS import Recommender, user_based_model"
   ]
  },
  {
   "cell_type": "markdown",
   "metadata": {},
   "source": [
    "# Correct way to load and use model.\n",
    "- There is simplier way to load it in next section (below this one)"
   ]
  },
  {
   "cell_type": "code",
   "execution_count": 3,
   "metadata": {},
   "outputs": [],
   "source": [
    "clf = Recommender(\"user_based_NN\", verbose=True)"
   ]
  },
  {
   "cell_type": "code",
   "execution_count": 4,
   "metadata": {},
   "outputs": [],
   "source": [
    "clf.load_encoders(path_songs=\"data/label_encoder_songs_classes_.npy\", path_users=\"data/label_encoder_users_classes_.npy\")"
   ]
  },
  {
   "cell_type": "code",
   "execution_count": 5,
   "metadata": {},
   "outputs": [],
   "source": [
    "X = sparse.load_npz(\"data/song-user_matrix_with_rating.npz\")"
   ]
  },
  {
   "cell_type": "code",
   "execution_count": 6,
   "metadata": {},
   "outputs": [],
   "source": [
    "clf.fit(X=X)\n",
    "clf.save_model(model_name=\"Item-User_KNN_model\")"
   ]
  },
  {
   "cell_type": "code",
   "execution_count": 7,
   "metadata": {},
   "outputs": [
    {
     "name": "stdout",
     "output_type": "stream",
     "text": [
      "['SOUHPCH12A8C1397DE' 'SOATVOC12A8AE45DC6' 'SOWNQOF12AB017B996'\n",
      " 'SOGPFFH12A8AE46A3C' 'SOPCZSP12AC3DF57B8' 'SOHMACD12A6D4F9582'\n",
      " 'SONHTYA12AB0186812' 'SODVQKS12AB017BB6B' 'SOCHVTF12AB017D77C'\n",
      " 'SOTLJLP12A58A7E694']\n"
     ]
    },
    {
     "data": {
      "text/plain": [
       "array([128077,   5025, 141198,  43494,  97208,  49140,  85964,  25319,\n",
       "        15246, 122973])"
      ]
     },
     "execution_count": 7,
     "metadata": {},
     "output_type": "execute_result"
    }
   ],
   "source": [
    "_10_random_songs = np.random.choice(clf.song_label_encoder.classes_,10)\n",
    "print(_10_random_songs)\n",
    "song_list = clf.song_label_encoder.transform(np.array(_10_random_songs)).squeeze()\n",
    "song_list"
   ]
  },
  {
   "cell_type": "code",
   "execution_count": 8,
   "metadata": {},
   "outputs": [
    {
     "name": "stdout",
     "output_type": "stream",
     "text": [
      "  recommended_songs_id  cosine distance\n",
      "0   SONMPJJ12AB0183AF8         0.773093\n",
      "1   SOOWBLY12A8C1328D8         0.833333\n",
      "2   SOGTCEZ12A6D4F8B9D         0.878302\n",
      "3   SOPMPIG12AB018076F         0.928088\n",
      "4   SOCPZST12A8C1358C8         0.919418\n",
      "5   SOANPZB12A58A77F80         0.838763\n",
      "6   SODYSZA12A6D4FA267         0.939807\n",
      "7   SOXRZGX12AB01857E0         0.909425\n",
      "8   SOMRGAI12A8C1426CA         0.791667\n",
      "9   SOPZJDL12A6D4F93A6         0.921066\n"
     ]
    },
    {
     "data": {
      "text/plain": [
       "(array(['SONMPJJ12AB0183AF8', 'SOOWBLY12A8C1328D8', 'SOGTCEZ12A6D4F8B9D',\n",
       "        'SOPMPIG12AB018076F', 'SOCPZST12A8C1358C8', 'SOANPZB12A58A77F80',\n",
       "        'SODYSZA12A6D4FA267', 'SOXRZGX12AB01857E0', 'SOMRGAI12A8C1426CA',\n",
       "        'SOPZJDL12A6D4F93A6'], dtype=object),\n",
       " array([0.77309334, 0.83333333, 0.8783022 , 0.92808825, 0.9194177 ,\n",
       "        0.83876305, 0.93980707, 0.90942471, 0.79166667, 0.9210663 ]))"
      ]
     },
     "execution_count": 8,
     "metadata": {},
     "output_type": "execute_result"
    }
   ],
   "source": [
    "clf.recommend(song_list= _10_random_songs, full_name=True, return_song_id=True)\n"
   ]
  },
  {
   "cell_type": "code",
   "execution_count": 9,
   "metadata": {},
   "outputs": [
    {
     "name": "stdout",
     "output_type": "stream",
     "text": [
      "   recommended_songs_code  cosine distance\n",
      "0                   87145         0.773093\n",
      "1                   95574         0.833333\n",
      "2                   44445         0.878302\n",
      "3                   99470         0.928088\n",
      "4                   17263         0.919418\n",
      "5                    3495         0.838763\n",
      "6                   26126         0.939807\n",
      "7                  147907         0.909425\n",
      "8                   82035         0.791667\n",
      "9                  102395         0.921066\n"
     ]
    },
    {
     "data": {
      "text/plain": [
       "(array([ 87145,  95574,  44445,  99470,  17263,   3495,  26126, 147907,\n",
       "         82035, 102395], dtype=int64),\n",
       " array([0.77309334, 0.83333333, 0.8783022 , 0.92808825, 0.9194177 ,\n",
       "        0.83876305, 0.93980707, 0.90942471, 0.79166667, 0.9210663 ]))"
      ]
     },
     "execution_count": 9,
     "metadata": {},
     "output_type": "execute_result"
    }
   ],
   "source": [
    "clf.recommend(song_list=_10_random_songs, full_name=True, return_song_id=False)"
   ]
  },
  {
   "cell_type": "code",
   "execution_count": 10,
   "metadata": {},
   "outputs": [
    {
     "name": "stdout",
     "output_type": "stream",
     "text": [
      "  recommended_songs_id  cosine distance\n",
      "0   SONMPJJ12AB0183AF8         0.773093\n",
      "1   SOOWBLY12A8C1328D8         0.833333\n",
      "2   SOGTCEZ12A6D4F8B9D         0.878302\n",
      "3   SOPMPIG12AB018076F         0.928088\n",
      "4   SOCPZST12A8C1358C8         0.919418\n",
      "5   SOANPZB12A58A77F80         0.838763\n",
      "6   SODYSZA12A6D4FA267         0.939807\n",
      "7   SOXRZGX12AB01857E0         0.909425\n",
      "8   SOMRGAI12A8C1426CA         0.791667\n",
      "9   SOPZJDL12A6D4F93A6         0.921066\n"
     ]
    },
    {
     "data": {
      "text/plain": [
       "(array(['SONMPJJ12AB0183AF8', 'SOOWBLY12A8C1328D8', 'SOGTCEZ12A6D4F8B9D',\n",
       "        'SOPMPIG12AB018076F', 'SOCPZST12A8C1358C8', 'SOANPZB12A58A77F80',\n",
       "        'SODYSZA12A6D4FA267', 'SOXRZGX12AB01857E0', 'SOMRGAI12A8C1426CA',\n",
       "        'SOPZJDL12A6D4F93A6'], dtype=object),\n",
       " array([0.77309334, 0.83333333, 0.8783022 , 0.92808825, 0.9194177 ,\n",
       "        0.83876305, 0.93980707, 0.90942471, 0.79166667, 0.9210663 ]))"
      ]
     },
     "execution_count": 10,
     "metadata": {},
     "output_type": "execute_result"
    }
   ],
   "source": [
    "clf.recommend(song_list= song_list, full_name=False, return_song_id=True)"
   ]
  },
  {
   "cell_type": "code",
   "execution_count": 11,
   "metadata": {},
   "outputs": [
    {
     "name": "stdout",
     "output_type": "stream",
     "text": [
      "   recommended_songs_code  cosine distance\n",
      "0                   87145         0.773093\n",
      "1                   95574         0.833333\n",
      "2                   44445         0.878302\n",
      "3                   99470         0.928088\n",
      "4                   17263         0.919418\n",
      "5                    3495         0.838763\n",
      "6                   26126         0.939807\n",
      "7                  147907         0.909425\n",
      "8                   82035         0.791667\n",
      "9                  102395         0.921066\n"
     ]
    },
    {
     "data": {
      "text/plain": [
       "(array([ 87145,  95574,  44445,  99470,  17263,   3495,  26126, 147907,\n",
       "         82035, 102395], dtype=int64),\n",
       " array([0.77309334, 0.83333333, 0.8783022 , 0.92808825, 0.9194177 ,\n",
       "        0.83876305, 0.93980707, 0.90942471, 0.79166667, 0.9210663 ]))"
      ]
     },
     "execution_count": 11,
     "metadata": {},
     "output_type": "execute_result"
    }
   ],
   "source": [
    "clf.recommend(song_list= song_list, full_name=False, return_song_id=False)"
   ]
  },
  {
   "cell_type": "markdown",
   "metadata": {},
   "source": [
    "## same input\n"
   ]
  },
  {
   "cell_type": "code",
   "execution_count": 12,
   "metadata": {},
   "outputs": [
    {
     "data": {
      "text/plain": [
       "array(['SOCVUMR12A8C13803E', 'SOCVUMR12A8C13803E', 'SOCVUMR12A8C13803E',\n",
       "       'SOCVUMR12A8C13803E', 'SOCVUMR12A8C13803E', 'SOCVUMR12A8C13803E',\n",
       "       'SOCVUMR12A8C13803E', 'SOCVUMR12A8C13803E', 'SOCVUMR12A8C13803E',\n",
       "       'SOCVUMR12A8C13803E'], dtype=object)"
      ]
     },
     "execution_count": 12,
     "metadata": {},
     "output_type": "execute_result"
    }
   ],
   "source": [
    "_1_song = np.random.choice(clf.song_label_encoder.classes_,1)\n",
    "_1_same_song = np.array([_1_song,_1_song,_1_song,_1_song,_1_song,_1_song,_1_song,_1_song,_1_song,_1_song]).ravel()\n",
    "_1_same_song"
   ]
  },
  {
   "cell_type": "code",
   "execution_count": 13,
   "metadata": {},
   "outputs": [
    {
     "name": "stdout",
     "output_type": "stream",
     "text": [
      "  recommended_songs_id  cosine distance\n",
      "0   SOCVLSM12A6D4F79CB         0.881873\n",
      "1   SOERRLC12A6D4F731B         0.869552\n",
      "2   SOAHGIJ12AB01880F7         0.868242\n",
      "3   SONPHYK12A58A7BA09         0.860384\n",
      "4   SOOHTKR12AB0186A6D         0.859813\n",
      "5   SOGDWVU12A6D4FB0C6         0.844759\n",
      "6   SOZTDEY12AB018CC29         0.839635\n",
      "7   SOREZLS12A8C136347         0.819225\n",
      "8   SOOWZDS12AB0186D6F         0.813405\n",
      "9   SOXUMTB12AB0186A80         0.812768\n"
     ]
    },
    {
     "data": {
      "text/plain": [
       "(array(['SOCVLSM12A6D4F79CB', 'SOERRLC12A6D4F731B', 'SOAHGIJ12AB01880F7',\n",
       "        'SONPHYK12A58A7BA09', 'SOOHTKR12AB0186A6D', 'SOGDWVU12A6D4FB0C6',\n",
       "        'SOZTDEY12AB018CC29', 'SOREZLS12A8C136347', 'SOOWZDS12AB0186D6F',\n",
       "        'SOXUMTB12AB0186A80'], dtype=object),\n",
       " array([0.88187252, 0.86955152, 0.86824221, 0.86038445, 0.85981296,\n",
       "        0.84475883, 0.83963459, 0.81922462, 0.8134049 , 0.81276848]))"
      ]
     },
     "execution_count": 13,
     "metadata": {},
     "output_type": "execute_result"
    }
   ],
   "source": [
    "clf.recommend(song_list=_1_same_song, full_name=True, return_song_id=True)"
   ]
  },
  {
   "cell_type": "markdown",
   "metadata": {},
   "source": [
    "# Simplifed function for loading and setting model"
   ]
  },
  {
   "cell_type": "code",
   "execution_count": 14,
   "metadata": {},
   "outputs": [],
   "source": [
    "model = user_based_model()"
   ]
  },
  {
   "cell_type": "code",
   "execution_count": null,
   "metadata": {},
   "outputs": [],
   "source": [
    "model.recommend(song_list= _10_random_songs, full_name=True, return_song_id=True)\n"
   ]
  },
  {
   "cell_type": "code",
   "execution_count": null,
   "metadata": {},
   "outputs": [],
   "source": [
    "model.recommend(song_list=_10_random_songs, full_name=True, return_song_id=False)"
   ]
  },
  {
   "cell_type": "code",
   "execution_count": null,
   "metadata": {},
   "outputs": [],
   "source": [
    "model.recommend(song_list= song_list, full_name=False, return_song_id=True)"
   ]
  },
  {
   "cell_type": "code",
   "execution_count": null,
   "metadata": {},
   "outputs": [],
   "source": [
    "model.recommend(song_list= song_list, full_name=False, return_song_id=False)"
   ]
  },
  {
   "cell_type": "markdown",
   "metadata": {},
   "source": [
    "## same input\n"
   ]
  },
  {
   "cell_type": "code",
   "execution_count": null,
   "metadata": {
    "scrolled": true
   },
   "outputs": [],
   "source": [
    "model.recommend(song_list=_1_same_song, full_name=True, return_song_id=True)"
   ]
  },
  {
   "cell_type": "code",
   "execution_count": null,
   "metadata": {},
   "outputs": [],
   "source": []
  }
 ],
 "metadata": {
  "kernelspec": {
   "display_name": "Pytorch",
   "language": "python",
   "name": "pytorch"
  },
  "language_info": {
   "codemirror_mode": {
    "name": "ipython",
    "version": 3
   },
   "file_extension": ".py",
   "mimetype": "text/x-python",
   "name": "python",
   "nbconvert_exporter": "python",
   "pygments_lexer": "ipython3",
   "version": "3.6.9"
  }
 },
 "nbformat": 4,
 "nbformat_minor": 2
}
